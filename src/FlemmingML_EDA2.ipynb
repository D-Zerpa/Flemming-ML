{
  "cells": [
    {
      "cell_type": "markdown",
      "id": "20ffd609",
      "metadata": {
        "id": "20ffd609"
      },
      "source": [
        "# 🎨 Style Setup"
      ]
    },
    {
      "cell_type": "code",
      "execution_count": null,
      "id": "6cc40597",
      "metadata": {
        "id": "6cc40597"
      },
      "outputs": [],
      "source": [
        "# 📊 Custom visual style for our data stories\n",
        "import seaborn as sns\n",
        "import matplotlib.pyplot as plt\n",
        "\n",
        "# Set a custom, modern Seaborn style\n",
        "sns.set_theme(style=\"whitegrid\", palette=\"muted\", font_scale=1.2)\n",
        "\n",
        "# Matplotlib tweaks\n",
        "plt.rcParams['figure.figsize'] = (12, 8)\n",
        "plt.rcParams['axes.titlesize'] = 18\n",
        "plt.rcParams['axes.labelsize'] = 14\n",
        "plt.rcParams['legend.fontsize'] = 12\n",
        "plt.rcParams['axes.edgecolor'] = 'gray'\n",
        "\n",
        "print(\"✅ Custom plotting style loaded!\")"
      ]
    },
    {
      "cell_type": "markdown",
      "id": "1e21beac",
      "metadata": {
        "id": "1e21beac"
      },
      "source": [
        "💡 From the plot above, we can spot which bacterial species dominate the dataset. This helps us understand potential biases and dominant pathogens in our data pool."
      ]
    },
    {
      "cell_type": "markdown",
      "id": "2de2a23d",
      "metadata": {
        "id": "2de2a23d"
      },
      "source": [
        "# Into the Petri Dish: Exploratory Data Analysis (EDA)"
      ]
    },
    {
      "cell_type": "markdown",
      "id": "dd74c592",
      "metadata": {
        "id": "dd74c592"
      },
      "source": [
        "Welcome to the thrilling (and sometimes messy) world of bacterial data. This section is all about poking around, making sense of things, and laying the groundwork before any fancy modeling begins."
      ]
    },
    {
      "cell_type": "markdown",
      "id": "6810624d",
      "metadata": {
        "id": "6810624d"
      },
      "source": [
        "## 0. Library Import – Assembling the Lab Gear"
      ]
    },
    {
      "cell_type": "markdown",
      "id": "33e4fa88",
      "metadata": {
        "id": "33e4fa88"
      },
      "source": [
        "We’re unpacking the big guns: pandas, numpy, seaborn, matplotlib, and some network magic. You’ll see why soon enough."
      ]
    },
    {
      "cell_type": "code",
      "execution_count": null,
      "id": "b70f77fe",
      "metadata": {
        "id": "b70f77fe"
      },
      "outputs": [],
      "source": [
        "# 🛠️ Let's do some data magic\n",
        "import pandas as pd\n",
        "import numpy as np\n",
        "import json\n",
        "import matplotlib.pyplot as plt\n",
        "from matplotlib.colors import LogNorm\n",
        "import seaborn as sns\n",
        "import math\n",
        "import ast\n",
        "from collections import Counter\n",
        "import plotly.graph_objects as go\n",
        "import networkx as nx\n",
        "from collections import defaultdict"
      ]
    },
    {
      "cell_type": "markdown",
      "id": "66db1424",
      "metadata": {
        "id": "66db1424"
      },
      "source": [
        "## 1. What's the Problem, Doc? 🦠\n",
        "\n"
      ]
    },
    {
      "cell_type": "markdown",
      "id": "640ee521",
      "metadata": {
        "id": "640ee521"
      },
      "source": [
        "### 1.1 Problem Statement\n",
        "\n",
        "> Think of it as our detective story—clues, suspects (bacteria), and the crime scene (the human body)."
      ]
    },
    {
      "cell_type": "markdown",
      "id": "3412ca49",
      "metadata": {
        "id": "3412ca49"
      },
      "source": [
        "Antibiotic resistance is one of those villains that keeps evolving. Our goal? Predict which bacteria are resistant to which drugs, so we can prescribe smarter, faster, and more effectively. This notebook is the first step: exploring what we have before building a recommendation engine that might actually help save lives (no pressure)."
      ]
    },
    {
      "cell_type": "markdown",
      "id": "06b35bc5",
      "metadata": {
        "id": "06b35bc5"
      },
      "source": [
        "### 1.2 The Dataset"
      ]
    },
    {
      "cell_type": "markdown",
      "id": "289c194a",
      "metadata": {
        "id": "289c194a"
      },
      "source": [
        "This dataset comes from clinical microbiology labs and includes everything from organism types to antibiotic susceptibility results. It's messy, it's real-world, and it's full of potential if we handle it right."
      ]
    },
    {
      "cell_type": "markdown",
      "id": "e93ea561",
      "metadata": {
        "id": "e93ea561"
      },
      "source": [
        "# 2. Data Collection Overview\n",
        "\n"
      ]
    },
    {
      "cell_type": "markdown",
      "id": "1fa4f8d8",
      "metadata": {
        "id": "1fa4f8d8"
      },
      "source": [
        "In this project, we wrangled multiple datasets from different sources to piece together a robust view of bacterial resistance. The journey was divided into three main stages: API-based collection, local data parsing, and then merging everything into something usable."
      ]
    },
    {
      "cell_type": "markdown",
      "id": "7f7462b0",
      "metadata": {
        "id": "7f7462b0"
      },
      "source": [
        "## 2.1 API-Based Data Collection (a.k.a. Hacking the Matrix)"
      ]
    },
    {
      "cell_type": "markdown",
      "id": "4f601ccb",
      "metadata": {
        "id": "4f601ccb"
      },
      "source": [
        "****What we wanted:****\n",
        "\n",
        "Pull bacterial sample metadata and antimicrobial susceptibility test (AST) results straight from online databases, with as little manual work as possible.\n",
        "\n",
        "****How we did it:****\n",
        "\n",
        "* **Fetching BioSample IDs:** We built a query system to fetch IDs from the NCBI BioSample database.\n",
        "\n",
        "* **Batch Metadata Collection:** Using the IDs, we requested metadata—taxonomy, source, and experimental setup—storing it all neatly in a Pandas DataFrame.\n",
        "\n",
        "**Extracting AST Data**\n",
        "\n",
        "* AST results were pulled using a similar API-based method.\n",
        "\n",
        "* Batch requests kept things efficient.\n",
        "\n",
        "* The results were saved as CSVs—because reproducibility is a beautiful thing.\n",
        "\n",
        "**Key Functions**\n",
        "\n",
        "* `get_biosamples(n_results):` Finds BioSample IDs that match our criteria.\n",
        "\n",
        "* `batch_request(biosample_ids, fetch_function):` Lets us query a lot of samples without breaking a sweat.\n",
        "\n",
        "* `expand_sampledata(df):` Cleans up the JSON-formatted mess into usable tables."
      ]
    },
    {
      "cell_type": "markdown",
      "id": "b3c6b6c2",
      "metadata": {
        "id": "b3c6b6c2"
      },
      "source": [
        "## 2.2 Local Data Collection (a.k.a. Resistance Genes Meet the Spreadsheet)"
      ]
    },
    {
      "cell_type": "markdown",
      "id": "b28dbad9",
      "metadata": {
        "id": "b28dbad9"
      },
      "source": [
        "****What we wanted:****\n",
        "\n",
        "Bring in genetic resistance data stored locally and match it with the BioSample IDs we previously grabbed via the API.\n",
        "\n",
        "****How we did it:****\n",
        "\n",
        "* **Getting the Data:** We downloaded a large dataset full of resistance gene info—think gene markers, mechanisms, alignments, the works.\n",
        "\n",
        "* **Filtering by BioSample ID:** To avoid drowning in irrelevant data, we filtered the dataset to keep only the entries that matched our API-collected BioSample IDs.\n",
        "\n",
        "**Key Processing Steps**\n",
        "\n",
        "* Located the column holding BioSample IDs in the resistance data.\n",
        "\n",
        "* Filtered the dataset to retain only relevant rows.\n",
        "\n",
        "* Saved this trimmed dataset in a structured format for easy downstream analysis."
      ]
    },
    {
      "cell_type": "markdown",
      "id": "d902c840",
      "metadata": {
        "id": "d902c840"
      },
      "source": [
        "## 2.3 Merging & Data Alignment (a.k.a. \"Time to Play Matchmaker\")\n",
        "\n",
        "> Here comes the chaos controller part: cleaning and aligning messy datasets like a data surgeon."
      ]
    },
    {
      "cell_type": "markdown",
      "id": "a6964c14",
      "metadata": {
        "id": "a6964c14"
      },
      "source": [
        "****What we wanted:****\n",
        "\n",
        "Fuse together our three sources—AST results, BioSample metadata, and genetic resistance markers—into one unified, clean dataset ready for analysis.\n",
        "\n",
        "****How we did it:****\n",
        "\n",
        "* **Joining the Dots:** We merged the AST dataset with the BioSample metadata using BioSample ID as our trusty key.\n",
        "\n",
        "* **Genetic Data Integration:** Resistance marker info was mapped in using the same key, completing the triangle.\n",
        "\n",
        "**Pending Work (Before Modeling Can Start)**\n",
        "\n",
        "* ✅ Standardize column names across datasets.\n",
        "\n",
        "* ✅ Convert key fields like dates and IDs into consistent formats.\n",
        "\n",
        "* ⚠️ Clean up: deal with missing values and duplicates to keep the dataset honest.\n",
        "\n",
        "All of this is about making sure the data speaks the same language before we ask it any big questions."
      ]
    },
    {
      "cell_type": "markdown",
      "id": "0407b1df",
      "metadata": {
        "id": "0407b1df"
      },
      "source": [
        "## 2.4 Data Standardization and Cleaning (a.k.a. \"Making the Data Play Nice\")\n",
        "\n"
      ]
    },
    {
      "cell_type": "markdown",
      "id": "6eb1d874",
      "metadata": {
        "id": "6eb1d874"
      },
      "source": [
        "Before we can feed our carefully assembled dataset into a model, we need to clean it up—give it a proper haircut and a fresh set of clothes. This means making sure column names are consistent, types are appropriate, and no uninvited guests like missing values or duplicates are hanging around."
      ]
    },
    {
      "cell_type": "markdown",
      "id": "aace9e14",
      "metadata": {
        "id": "aace9e14"
      },
      "source": [
        "We begin by loading the merged dataset that was created in the previous step (where we combined the metadata, AST results, and resistance markers)."
      ]
    },
    {
      "cell_type": "code",
      "execution_count": null,
      "id": "d0f24b12",
      "metadata": {
        "id": "d0f24b12"
      },
      "outputs": [],
      "source": [
        "# 🛠️ Let's do some data magic\n",
        "df = pd.read_csv(r'../data/interim/merged_data.csv')"
      ]
    },
    {
      "cell_type": "markdown",
      "id": "301ac178",
      "metadata": {
        "id": "301ac178"
      },
      "source": [
        "### 2.1 Quick Overview"
      ]
    },
    {
      "cell_type": "markdown",
      "id": "55cb852c",
      "metadata": {
        "id": "55cb852c"
      },
      "source": [
        "Let’s make sure our dataset isn’t hiding any nasty surprises like missing values, inconsistent formats, or duplicate rows."
      ]
    },
    {
      "cell_type": "code",
      "execution_count": null,
      "id": "c4ff0f39",
      "metadata": {
        "id": "c4ff0f39"
      },
      "outputs": [],
      "source": [
        "# 💡  Show some generals\n",
        "print(\"🔍 Dataset Overview:\")\n",
        "df.info()"
      ]
    },
    {
      "cell_type": "code",
      "execution_count": null,
      "id": "44578ed9",
      "metadata": {
        "id": "44578ed9"
      },
      "outputs": [],
      "source": [
        "# 💡  Statistic data\n",
        "print(\"📊 Basic Statistics:\")\n",
        "df.describe(include=\"all\")"
      ]
    },
    {
      "cell_type": "code",
      "execution_count": null,
      "id": "992cafe5",
      "metadata": {
        "id": "992cafe5"
      },
      "outputs": [],
      "source": [
        "# 💡  Missing Values\n",
        "print(\"⚠️ Missing Values:\")\n",
        "df.isnull().sum()"
      ]
    },
    {
      "cell_type": "code",
      "execution_count": null,
      "id": "1e037ac9",
      "metadata": {
        "id": "1e037ac9"
      },
      "outputs": [],
      "source": [
        "# 💡  Unique values\n",
        "print(\"🔢 Unique Values per Column:\")\n",
        "df.nunique()"
      ]
    },
    {
      "cell_type": "code",
      "execution_count": null,
      "id": "5b0dbcc9",
      "metadata": {
        "id": "5b0dbcc9"
      },
      "outputs": [],
      "source": [
        "# 💡  Sneak peak\n",
        "print(\"👀 Sample Data:\")\n",
        "df.head()"
      ]
    },
    {
      "cell_type": "code",
      "execution_count": null,
      "id": "e1fb4b55",
      "metadata": {
        "id": "e1fb4b55"
      },
      "outputs": [],
      "source": [
        "# 🛠️ Let's do some data magic\n",
        "\"\"\"\n",
        "\n",
        "As we have two \"organism\" columns (one with caps at the beginning and the other on minus), we'll choose to drop right away the one\n",
        "with less unique values, this is because due to the nature of the next steps, it'll surely be a problem.\n",
        "\n",
        "\"\"\"\n",
        "\n",
        "\n",
        "df.drop(columns= \"Organism\", inplace=True)\n"
      ]
    },
    {
      "cell_type": "markdown",
      "id": "3140508e",
      "metadata": {
        "id": "3140508e"
      },
      "source": [
        "### 2.2 Data Standarization"
      ]
    },
    {
      "cell_type": "markdown",
      "id": "1042ca81",
      "metadata": {
        "id": "1042ca81"
      },
      "source": [
        "**🔄 Data Standardization Process**\n",
        "\n",
        "This process ensures that our dataset is clean, consistent, and ready for analysis. We follow these key steps:\n",
        "\n",
        "**1️⃣ Column Name Standardization**\n",
        "\n",
        "* Convert column names to lowercase.\n",
        "* Replace spaces with underscores (snake_case).\n",
        "* Remove unnecessary symbols (e.g., dots).\n",
        "\n",
        "**2️⃣ Data Cleaning**\n",
        "\n",
        "* Drop unnecessary columns (Unnamed: 0.1, Unnamed: 0).\n",
        "* Ensure BioSample ID is correctly formatted and handle duplicates.\n",
        "* Convert dates to datetime format.\n",
        "* Standardize categorical values in relevant columns (e.g., organism, geographic_location).\n",
        "\n",
        "**3️⃣ Handling Missing Data**\n",
        "\n",
        "* Identify columns with missing values.\n",
        "* Decide whether to drop, impute, or keep them.\n",
        "* Store missing value statistics for further processing."
      ]
    },
    {
      "cell_type": "markdown",
      "id": "2346c454",
      "metadata": {
        "id": "2346c454"
      },
      "source": [
        "**Function loading**"
      ]
    },
    {
      "cell_type": "code",
      "execution_count": null,
      "id": "b2cc6ef7",
      "metadata": {
        "id": "b2cc6ef7"
      },
      "outputs": [],
      "source": [
        "def standardize_column_names(df):\n",
        "    \"\"\"Standardizes column names to lowercase, snake_case, and removes special characters safely.\"\"\"\n",
        "    print(\"📌 Original columns:\", df.columns.tolist())\n",
        "\n",
        "    # String check, just in case\n",
        "    df.columns = df.columns.astype(str)\n",
        "\n",
        "    # Naming standarization\n",
        "    df.columns = (\n",
        "        df.columns.str.strip()\n",
        "        .str.lower()\n",
        "        .str.replace(r\"\\s+\", \"_\", regex=True)  # Use Regex to detect spaces on titles, replaced with underscores.\n",
        "        .str.replace(r\"[^\\w\\d_]\", \"\", regex=True)  # Use Regex to detect special characters and remove them.\n",
        "    )\n",
        "\n",
        "    print(\"✅ Standardized columns:\", df.columns.tolist())\n",
        "    return df\n",
        "\n",
        "\n",
        "def drop_unnecessary_columns(df, columns_to_drop):\n",
        "    \"\"\"Drops unnecessary columns if they exist in the dataset.\"\"\"\n",
        "\n",
        "    #Checks for every column to see if matches with the columns we're dropping.\n",
        "    existing_cols = [col for col in columns_to_drop if col in df.columns]\n",
        "    print(f\"🗑 Dropping columns: {existing_cols}\")\n",
        "\n",
        "    #Drop them\n",
        "    df.drop(columns=existing_cols, inplace=True)\n",
        "    return df\n",
        "\n",
        "def convert_dates(df, date_columns):\n",
        "    \"\"\"Converts date columns to datetime format, handling errors gracefully.\"\"\"\n",
        "    for col in date_columns:\n",
        "        if col in df.columns:\n",
        "            print(f\"📆 Converting {col} to datetime\")\n",
        "            df[col] = pd.to_datetime(df[col], errors=\"coerce\")\n",
        "    return df\n",
        "\n",
        "def standardize_text_columns(df, text_columns):\n",
        "    \"\"\"Standardizes text columns by converting to lowercase, stripping spaces, and handling NaNs.\"\"\"\n",
        "    for col in text_columns:\n",
        "        if col in df.columns:\n",
        "            print(f\"🔤 Standardizing text column: {col}\")\n",
        "\n",
        "            df[col] = df[col].astype(str)  # String check, just in case\n",
        "            df[col] = df[col].fillna(\"\").str.strip().str.lower()  # Fill NaN and Standarize text.\n",
        "        else:\n",
        "            print(f\"Warning: Column '{col}' is not on DataFrame.\") #Error check, giving the fact we're handling the naming before.\n",
        "\n",
        "    return df\n",
        "\n",
        "def handle_missing_data(df):\n",
        "    \"\"\"Identifies and reports missing values, saving a summary to a CSV file.\"\"\"\n",
        "\n",
        "    #Check for nulls\n",
        "    missing_values = df.isnull().sum()\n",
        "    missing_values = missing_values[missing_values > 0]\n",
        "\n",
        "    #Save a report in case there's nulls, tell us if otherwise.\n",
        "    if not missing_values.empty:\n",
        "        print(\"⚠️ Missing values detected! Saving report...\")\n",
        "        missing_values.to_csv(r\"../data/interim/missing_values_report.csv\")\n",
        "    else:\n",
        "        print(\"✅ No missing values detected.\")\n",
        "    return df\n",
        "\n",
        "def standardize_data(df, save_path):\n",
        "    \"\"\"Main function to load, clean, and standardize the dataset.\"\"\"\n",
        "    print(f\"📂 Loaded dataset with shape: {df.shape}\")\n",
        "\n",
        "    # Apply the whole pipeline of functions\n",
        "    df = standardize_column_names(df)\n",
        "    df = drop_unnecessary_columns(df, [\"unnamed_0\", \"unnamed_01\"])\n",
        "    df = convert_dates(df, [\"date\", \"publicationdate\", \"modificationdate\", \"collection_date\"])\n",
        "    df = standardize_text_columns(df, ['organism', \"geographic_location\", \"isolation_source\"])\n",
        "    df = handle_missing_data(df)\n",
        "\n",
        "    # Save the, now standarized, dataset\n",
        "    df.to_csv(save_path, index=False)\n",
        "    print(f\"✅ Data standardization complete! Cleaned file saved as '{save_path}'\")"
      ]
    },
    {
      "cell_type": "markdown",
      "id": "f7f3a0de",
      "metadata": {
        "id": "f7f3a0de"
      },
      "source": [
        "**Pipeline running**"
      ]
    },
    {
      "cell_type": "code",
      "execution_count": null,
      "id": "d78b2f9e",
      "metadata": {
        "id": "d78b2f9e"
      },
      "outputs": [],
      "source": [
        "# 🛠️ Let's do some data magic\n",
        "save_path = r'../data/interim/standarized_data.csv'\n",
        "standardize_data(df, save_path)"
      ]
    },
    {
      "cell_type": "markdown",
      "id": "9b5f923a",
      "metadata": {
        "id": "9b5f923a"
      },
      "source": [
        "**Missing value handling**"
      ]
    },
    {
      "cell_type": "code",
      "execution_count": null,
      "id": "4da2aa59",
      "metadata": {
        "id": "4da2aa59"
      },
      "outputs": [],
      "source": [
        "# 🛠️ Let's do some data magic\n",
        "mv_rep = pd.read_csv(r'../data/interim/missing_values_report.csv')\n",
        "print(\"⚠️ Missing values report! incoming...\")\n",
        "print(mv_rep.sort_values(by=\"0\", ascending=False))"
      ]
    },
    {
      "cell_type": "markdown",
      "id": "e665e101",
      "metadata": {
        "id": "e665e101"
      },
      "source": [
        "***About the columns with missing values:***\n",
        "\n",
        "* **`collection_date:`** not relevant for our problem. There's no logical explanation as why the date the sample was collected should influence the antibiotic resistance.\n",
        "\n",
        "* **`genetic_mechanisms:`** highly relevant column, should not be touched.\n",
        "\n",
        "* **`sample_name:`** as collection_date, there's no logical reason to be related with antibiotic resistance.\n",
        "\n",
        "* **`infraspecies:`** by the concept of the column, make sense that there's some bacteria without infraspecie classification. However, it might not add much value to the prediction per se, also taking in consideration it might be problematic for the input when it comes to prediction.\n",
        "\n",
        "**Veredict:**\n",
        "\n",
        "We'll drop **`collection_date`**, **`sample_name`** and **`infraspecies`**. Leaving only **`genetic_mechanisms`** with filler data."
      ]
    },
    {
      "cell_type": "markdown",
      "id": "9076e748",
      "metadata": {
        "id": "9076e748"
      },
      "source": [
        "**Excecution**"
      ]
    },
    {
      "cell_type": "code",
      "execution_count": null,
      "id": "398450a3",
      "metadata": {
        "id": "398450a3"
      },
      "outputs": [],
      "source": [
        "# 💡  Using our useful function from before.\n",
        "\n",
        "drop_unnecessary_columns(df, [\"collection_date\",\"sample_name\",\"infraspecies\"])\n",
        "\n",
        "# 💡  We'll fill the genetic_mechanisms column with some \"none\" values.\n",
        "\n",
        "df.fillna({\"genetic_mechanisms\":\"none\"}, inplace = True)\n",
        "\n",
        "# 💡  Then check for nulls again.\n",
        "\n",
        "print(\"⚠️ Missing values report! incoming...\")\n",
        "print(df.isnull().sum())"
      ]
    },
    {
      "cell_type": "markdown",
      "id": "e9bb5d7e",
      "metadata": {
        "id": "e9bb5d7e"
      },
      "source": [
        "**BioSample ID Handling & Check for Inconsistencies**"
      ]
    },
    {
      "cell_type": "markdown",
      "id": "61e498fe",
      "metadata": {
        "id": "61e498fe"
      },
      "source": [
        "First, we found three columns that give us the same information, these being `biosample_id`, `biosample_id1` and `accession`. We'll need to handle this to make sure there's no inconsistencies and we can keep one for the time being.\n",
        "\n"
      ]
    },
    {
      "cell_type": "code",
      "execution_count": null,
      "id": "45ce23bf",
      "metadata": {
        "id": "45ce23bf"
      },
      "outputs": [],
      "source": [
        "# 🛠️ Let's do some data magic\n",
        "df[[\"accession\",\"biosample_id\",\"biosample_id1\"]].head(10)"
      ]
    },
    {
      "cell_type": "markdown",
      "id": "d92da471",
      "metadata": {
        "id": "d92da471"
      },
      "source": [
        "Since `biosample_id` is a shortened version and `biosample_id1` is identical to `accession`:"
      ]
    },
    {
      "cell_type": "code",
      "execution_count": null,
      "id": "830e8a80",
      "metadata": {
        "id": "830e8a80"
      },
      "outputs": [],
      "source": [
        "# 💡  Step 1: Drop biosample_id1, as is exactly a copy of accession.\n",
        "\n",
        "df.drop(columns=[\"biosample_id1\"], inplace=True)\n",
        "print(\"✅ Dropped 'biosample_id1' (duplicate of 'accession').\")"
      ]
    },
    {
      "cell_type": "code",
      "execution_count": null,
      "id": "f3efc7ee",
      "metadata": {
        "id": "f3efc7ee"
      },
      "outputs": [],
      "source": [
        "# 💡  Step 2: Check if there's a mismatch between the two columns, as a verification.\n",
        "\n",
        "# 💡  String check, just in case.\n",
        "df[\"accession\"] = df[\"accession\"].astype(str)\n",
        "df[\"biosample_id\"] = df[\"biosample_id\"].astype(str)\n",
        "\n",
        "# 💡  Identify mismatches row-by-row\n",
        "mismatches = df[~df.apply(lambda row: row[\"biosample_id\"] in row[\"accession\"], axis=1)]\n",
        "print(f\"⚠️ Found {len(mismatches)} cases where 'BioSample ID' is NOT part of 'accession'.\")\n",
        "\n",
        "# 💡  Show results\n",
        "print(mismatches[[\"biosample_id\", \"accession\"]].head(10))\n",
        "\n",
        "# 💡  As, indeed, all the information of biosample_id is contained on accession. We can drop it.\n",
        "\n",
        "df.drop(columns=[\"biosample_id\"], inplace=True)\n",
        "print(\"✅ Dropped 'biosample_id' (another (less handsome) duplicate of 'accession').\")"
      ]
    },
    {
      "cell_type": "code",
      "execution_count": null,
      "id": "7151e5e2",
      "metadata": {
        "id": "7151e5e2"
      },
      "outputs": [],
      "source": [
        "# 💡  Step 3: Check for duplicates in accession.\n",
        "\n",
        "print(f\"🔎 Found {df['accession'].duplicated().sum()} duplicate 'accession' values.\")"
      ]
    },
    {
      "cell_type": "markdown",
      "id": "53137b2e",
      "metadata": {
        "id": "53137b2e"
      },
      "source": [
        "**The Mycobacterium saga**"
      ]
    },
    {
      "cell_type": "markdown",
      "id": "1dd3e433",
      "metadata": {
        "id": "1dd3e433"
      },
      "source": [
        "At this point in the analysis, we realized there's a lot of null values at the `antibiogram` column. They're hidden from `.isnull()` because they're technically not null, they have \"{}\" as value and they're all related to the \"*mycobacterium*\" organisms."
      ]
    },
    {
      "cell_type": "code",
      "execution_count": null,
      "id": "683238a3",
      "metadata": {
        "id": "683238a3"
      },
      "outputs": [],
      "source": [
        "# 💡  We doublecheck if it's really only a problem with the mycobacterium. Getting as result that all kinds of MB are involved.\n",
        "nulls = len(df[df.antibiogram == \"{}\"])\n",
        "print(df[\"organism\"][df.antibiogram == \"{}\"].unique())\n",
        "print(f\"The ammount of false null results is {nulls}\")\n",
        "df[\"organism\"][df.antibiogram == \"{}\"].head(10)"
      ]
    },
    {
      "cell_type": "markdown",
      "id": "05fb0354",
      "metadata": {
        "id": "05fb0354"
      },
      "source": [
        "This time, our approach is extract from the AST a database with all the antibiogram data, applying the filter \"mycobacterium\" to just give us that information."
      ]
    },
    {
      "cell_type": "code",
      "execution_count": null,
      "id": "872deb21",
      "metadata": {
        "id": "872deb21"
      },
      "outputs": [],
      "source": [
        "# 🛠️ Let's do some data magic\n",
        "myc = pd.read_csv(r'../data/interim/mbdatabase.csv')\n",
        "myc.head()"
      ]
    },
    {
      "cell_type": "markdown",
      "id": "8a5f8b10",
      "metadata": {
        "id": "8a5f8b10"
      },
      "source": [
        "As we already have the information needed, except by the antibiogram, we'll just use the `Biosample` info (which correlates with our `accession`) to find the samples we already have, then put the information there as a JSON, like the other antibiograms."
      ]
    },
    {
      "cell_type": "code",
      "execution_count": null,
      "id": "5a1b8ef3",
      "metadata": {
        "id": "5a1b8ef3"
      },
      "outputs": [],
      "source": [
        "# 💡  Step 1: Get the important information, that being the ID, the antibiotic and the resistance. Send the rest to the trash.\n",
        "\n",
        "myc = myc[[\"# 💡 BioSample\", \"Antibiotic\", \"Resistance phenotype\"]].dropna()\n",
        "\n",
        "# 💡  Step 2: Rename the Column to really correlate with ours.\n",
        "myc.rename(columns={\"# 💡 BioSample\": \"accession\"}, inplace=True)\n",
        "\n",
        "# 💡  Step 3: JSON the f* out those antibiograms, aggregating them in just one column, since it could be multiple entrances to one ID.\n",
        "def format_antibiogram(group):\n",
        "    return json.dumps({row[\"Antibiotic\"].lower(): row[\"Resistance phenotype\"].lower() for _, row in group.iterrows()})\n",
        "\n",
        "df_myc = myc.groupby(\"accession\").apply(format_antibiogram).reset_index()\n",
        "df_myc.columns = [\"accession\", \"antibiogram\"]\n",
        "\n",
        "# 💡  Step 4: ????\n",
        "\n",
        "# 💡  Step 5: Profit.\n",
        "\n",
        "df_myc.head(3)"
      ]
    },
    {
      "cell_type": "markdown",
      "id": "3d661220",
      "metadata": {
        "id": "3d661220"
      },
      "source": [
        "Now we have only the data we want in our Dataset, so let's put it where ir belongs."
      ]
    },
    {
      "cell_type": "code",
      "execution_count": null,
      "id": "db37eaee",
      "metadata": {
        "id": "db37eaee"
      },
      "outputs": [],
      "source": [
        "# 💡  Strip check, just in case.\n",
        "\n",
        "df[\"accession\"] = df[\"accession\"].astype(str).str.strip()\n",
        "df_myc[\"accession\"] = df_myc[\"accession\"].astype(str).str.strip()\n",
        "\n",
        "# 💡  We'll merge the two datasets on accession as told before. Creating other column with the new information.\n",
        "\n",
        "merged_data = pd.merge(df, df_myc, on='accession', how='left', suffixes=('_d1', '_d2'))\n",
        "\n",
        "# 💡  This loop will look for values equal to the deceitful \"{}\" on _d1, then replacing it with the info of _d2\n",
        "\n",
        "for column in df.columns:\n",
        "    if column != 'accession' and column in df_myc.columns:\n",
        "        merged_data[column] = merged_data[column + '_d1'].where(merged_data[column + '_d1'] != '{}', merged_data[column + '_d2'])\n",
        "\n",
        "# 💡  Now that _d2 fulfill it's role, we can say goodbye.\n",
        "\n",
        "merged_data = merged_data.drop(columns=[col for col in merged_data if col.endswith('_d1')\n",
        "                                or col.endswith('_d2') or col == \"Unnamed: 0\"])\n",
        "\n",
        "merged_data.head(3)"
      ]
    },
    {
      "cell_type": "markdown",
      "id": "97cf0dc1",
      "metadata": {
        "id": "97cf0dc1"
      },
      "source": [
        "Now we check again the false nulls."
      ]
    },
    {
      "cell_type": "code",
      "execution_count": null,
      "id": "388812aa",
      "metadata": {
        "id": "388812aa"
      },
      "outputs": [],
      "source": [
        "# 🛠️ Let's do some data magic\n",
        "print(merged_data[\"organism\"][merged_data.antibiogram == \"{}\"].unique())\n",
        "merged_data[\"organism\"][merged_data.antibiogram == \"{}\"].head(10)"
      ]
    },
    {
      "cell_type": "markdown",
      "id": "5b3b2452",
      "metadata": {
        "id": "5b3b2452"
      },
      "source": [
        "No more {} cases. Let's check the true nulls."
      ]
    },
    {
      "cell_type": "code",
      "execution_count": null,
      "id": "f7abade0",
      "metadata": {
        "id": "f7abade0"
      },
      "outputs": [],
      "source": [
        "# 🛠️ Let's do some data magic\n",
        "merged_data.isnull().sum()"
      ]
    },
    {
      "cell_type": "markdown",
      "id": "9285ae89",
      "metadata": {
        "id": "9285ae89"
      },
      "source": [
        "Compared to the previous ammount of nulls, we manage to rescue around 1200+ antibiograms. Which is not optimal, but not entirely bad. We'll need to get rid of the rest.\n",
        "\n",
        "It was a hard fight, we lost 2641 soldiers, but they'll be remembered."
      ]
    },
    {
      "cell_type": "code",
      "execution_count": null,
      "id": "63d25c15",
      "metadata": {
        "id": "63d25c15"
      },
      "outputs": [],
      "source": [
        "# 🛠️ Let's do some data magic\n",
        "merged_data = merged_data.dropna()\n",
        "print(merged_data.isnull().sum())\n",
        "merged_data.shape"
      ]
    },
    {
      "cell_type": "markdown",
      "id": "8b3a0f7e",
      "metadata": {
        "id": "8b3a0f7e"
      },
      "source": [
        "We proceed to save our progress."
      ]
    },
    {
      "cell_type": "code",
      "execution_count": null,
      "id": "8118524f",
      "metadata": {
        "id": "8118524f"
      },
      "outputs": [],
      "source": [
        "# 🛠️ Let's do some data magic\n",
        "merged_data.to_csv(r'../data/interim/std_data_fix.csv', index= False)"
      ]
    },
    {
      "cell_type": "markdown",
      "id": "99d9f624",
      "metadata": {
        "id": "99d9f624"
      },
      "source": [
        "With (in theory) every column usable and the superficially redundant information left out, we're going to go deeper into the features of the dataset to see if there's something else to **purge**."
      ]
    },
    {
      "cell_type": "code",
      "execution_count": null,
      "id": "a26b7760",
      "metadata": {
        "id": "a26b7760"
      },
      "outputs": [],
      "source": [
        "# 🛠️ Let's do some data magic\n",
        "df = pd.read_csv(r'../data/interim/std_data_fix.csv')"
      ]
    },
    {
      "cell_type": "markdown",
      "id": "b536d239",
      "metadata": {
        "id": "b536d239"
      },
      "source": [
        "### 2.3 Understanding the features\n",
        "\n",
        "> Here comes the chaos controller part: cleaning and aligning messy datasets like a data surgeon."
      ]
    },
    {
      "cell_type": "markdown",
      "id": "63217114",
      "metadata": {
        "id": "63217114"
      },
      "source": [
        "We can group every value as it follows:"
      ]
    },
    {
      "cell_type": "markdown",
      "id": "10f49cf8",
      "metadata": {
        "id": "10f49cf8"
      },
      "source": [
        "**1️⃣ Identifiers & Metadata**\n",
        "\n",
        "* `uid` → Unique identifier for the sample in the dataset.\n",
        "* `accession` → Unique database-assigned ID for the sample.\n",
        "* `title` → Descriptive name of the sample entry.\n",
        "* `identifiers` → Additional external references related to the sample.\n",
        "* `sortkey` → Key for organizing or sorting data.\n",
        "* `sourcesample` → Another column with more BioSample ID info that totally escaped my first look.\n",
        "\n",
        "**2️⃣ Dates & Versioning**\n",
        "\n",
        "* `date` → General date associated with the sample (unclear scope).\n",
        "* `publicationdate` → Date when the sample was published.\n",
        "* `modificationdate` → Date of the last modification or update.\n",
        "\n",
        "**3️⃣ Sample Origin & Source**\n",
        "\n",
        "* `taxonomy` → Taxonomic classification (e.g., species, genus).\n",
        "* `organism` → Specific organism name in the sample.\n",
        "* `geographic_location` → Country/region where the sample was collected.\n",
        "* `isolation_source` → Specific material or environment where the sample was taken (e.g., blood, soil).\n",
        "\n",
        "**4️⃣ Submission & Processing**\n",
        "\n",
        "* `organization` → Institution or entity that submitted the sample.\n",
        "* `package` → Sequencing or processing package used.\n",
        "\n",
        "**5️⃣ Antimicrobial Resistance & Genetic Features**\n",
        "\n",
        "* `antibiogram` → Dictionary of antibiotic susceptibility results.\n",
        "* `genetic_mechanisms` → List of genetic elements (AMR, virulence, stress response)."
      ]
    },
    {
      "cell_type": "markdown",
      "id": "a76465d5",
      "metadata": {
        "id": "a76465d5"
      },
      "source": [
        "### 2.4 Cleaning of unnecesary data"
      ]
    },
    {
      "cell_type": "markdown",
      "id": "82e2b385",
      "metadata": {
        "id": "82e2b385"
      },
      "source": [
        "And now we can play a game i like to call:\n",
        "\n",
        "**Keep, Drop, Transform!**"
      ]
    },
    {
      "cell_type": "markdown",
      "id": "a6ced076",
      "metadata": {
        "id": "a6ced076"
      },
      "source": [
        "![image.png](data:image/png;base64,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)"
      ]
    },
    {
      "cell_type": "markdown",
      "id": "c5050131",
      "metadata": {
        "id": "c5050131"
      },
      "source": [
        "**Final Decision**\n",
        "\n",
        "✅ **Keep**: `date`, `organism`, `geographic_location`, `isolation_source`, `genetic_mechanisms`, `antibiogram`\n",
        "\n",
        "❌ **Drop**: `uid`, `title`, `accession`, `publicationdate`, `modificationdate`, `organization`, `taxonomy`, `sourcesample`, `identifiers`, `package`, `sortkey`\n",
        "\n",
        "🔄 **Transform**: `date` (to check if time-based trends matter, extract year/month), `geographic_location` (keep just the countries)"
      ]
    },
    {
      "cell_type": "markdown",
      "id": "3ea6861a",
      "metadata": {
        "id": "3ea6861a"
      },
      "source": [
        "**Execution**"
      ]
    },
    {
      "cell_type": "code",
      "execution_count": null,
      "id": "8da6a72a",
      "metadata": {
        "id": "8da6a72a"
      },
      "outputs": [],
      "source": [
        "# 💡  Drop: Say goodbye to the not-so-useful columns.\n",
        "\n",
        "df = df.drop(columns=[\"uid\", \"title\", \"publicationdate\", \"modificationdate\", \"identifiers\", \"package\", \"sortkey\",\"organization\",\"sourcesample\", \"taxonomy\"])\n",
        "\n",
        "# 💡  Transform:\n",
        "\n",
        "# 💡  Keeping just the countries, without the cities, to better cohesion.\n",
        "\n",
        "df[\"geographic_location\"] = df[\"geographic_location\"].str.split(\":\").str[0]\n",
        "\n",
        "# 💡  Reconvert the date format to just keep the month and year, again, just for cohesion.\n",
        "df[\"date\"] = pd.to_datetime(df[\"date\"], errors='coerce').dt.to_period(\"M\")\n",
        "\n",
        "# 💡  Checking everything is good.\n",
        "df.head(3)"
      ]
    },
    {
      "cell_type": "markdown",
      "id": "eec039d8",
      "metadata": {
        "id": "eec039d8"
      },
      "source": [
        "We'll save at this point, since it'll be our final, mother dataset:"
      ]
    },
    {
      "cell_type": "code",
      "execution_count": null,
      "id": "dece3777",
      "metadata": {
        "id": "dece3777"
      },
      "outputs": [],
      "source": [
        "# 🛠️ Let's do some data magic\n",
        "df.to_csv(r'../data/interim/final_data_base.csv', index= False)"
      ]
    },
    {
      "cell_type": "markdown",
      "id": "f7a7e07e",
      "metadata": {
        "id": "f7a7e07e"
      },
      "source": [
        "\n",
        "\n",
        "## 3. Data Exploration"
      ]
    },
    {
      "cell_type": "markdown",
      "id": "92b9c427",
      "metadata": {
        "id": "92b9c427"
      },
      "source": [
        "### 3.1 Basic organisms distributions"
      ]
    },
    {
      "cell_type": "code",
      "execution_count": null,
      "id": "7c7f22f0",
      "metadata": {
        "id": "7c7f22f0"
      },
      "outputs": [],
      "source": [
        "# 💡  As there are just too many individual organisms, we'll use a function to group them based on their genus.\n",
        "# 💡  (e.g. all Salmonellas will be on a group called \"Salmonella spp\")\n",
        "\n",
        "# 💡  First we create a copy of our DF\n",
        "\n",
        "data = df.copy()\n",
        "\n",
        "# 💡  Easy function to make groups based on the first word of the name.\n",
        "def genus_grouping(name):\n",
        "    return name.split()[0].lower().capitalize() + \" spp.\"\n",
        "\n",
        "# 💡  We aplly it.\n",
        "data[\"organism_group\"] = data[\"organism\"].apply(genus_grouping)\n",
        "\n",
        "# 💡  Count occurrences.\n",
        "organism_counts = data[\"organism_group\"].value_counts()\n",
        "\n",
        "# 💡  Show 'em.\n",
        "plt.figure(figsize=(12, 6))\n",
        "organism_counts.plot(kind=\"bar\", color='skyblue', edgecolor='black', width=0.8)\n",
        "plt.xticks(rotation=90, ha='right', fontsize=12)\n",
        "plt.yticks(fontsize=12)\n",
        "plt.xlabel(\"Organism Group\", fontsize=14)\n",
        "plt.ylabel(\"Count\", fontsize=14)\n",
        "plt.title(\"Organism Distribution (by Genus)\", fontsize=16)\n",
        "plt.grid(axis='y', linestyle='--', alpha=0.7)\n",
        "plt.tight_layout()\n",
        "plt.show()"
      ]
    },
    {
      "cell_type": "markdown",
      "id": "a99a5b70",
      "metadata": {
        "id": "a99a5b70"
      },
      "source": [
        "💡 These heatmaps give us a quick glance at resistance and susceptibility trends across species. It's clear that some species have a notorious resistance pattern. We'll need to keep an eye on them in modeling."
      ]
    },
    {
      "cell_type": "markdown",
      "id": "1016be05",
      "metadata": {
        "id": "1016be05"
      },
      "source": [
        "As we see, the dataset's most common genera—Salmonella, Escherichia coli, Staphylococcus, Klebsiella, and Pseudomonas—align with real-world infection patterns. Their prevalence suggests a mix of **nosocomial infections** and **foodborne pathogens**.\n",
        "\n",
        "**Nosocomial Infections:**\n",
        "\n",
        "- `E. coli`, `Klebsiella`, `Pseudomonas`, `Acinetobacter`, and `Staphylococcus` are major culprits of **hospital-acquired infections**, particularly in ICUs. Their frequent antibiotic resistance makes them key surveillance targets.\n",
        "\n",
        "**Foodborne Pathogens:**\n",
        "\n",
        "- `Salmonella` and `Campylobacter` are leading causes of foodborne illnesses, responsible for millions of cases worldwide. Their high presence suggests the dataset includes clinical or epidemiological monitoring data."
      ]
    },
    {
      "cell_type": "markdown",
      "id": "a592ced2",
      "metadata": {
        "id": "a592ced2"
      },
      "source": [
        "Now let's see more on detail:"
      ]
    },
    {
      "cell_type": "markdown",
      "id": "18188b37",
      "metadata": {
        "id": "18188b37"
      },
      "source": [
        "### 3.1.1 Organisms by species"
      ]
    },
    {
      "cell_type": "code",
      "execution_count": null,
      "id": "5b7b29e2",
      "metadata": {
        "id": "5b7b29e2"
      },
      "outputs": [],
      "source": [
        "# 💡  First we get the Genus (first word) and Species (first two words, we're doing this because there're many subspecies).\n",
        "data[\"genus\"] = data[\"organism\"].str.split().str[0]\n",
        "data[\"species\"] = data[\"organism\"].str.split().str[:2].str.join(\" \")\n",
        "\n",
        "# 💡  We count unique species per genus.\n",
        "genus_species_counts = data.groupby(\"genus\")[\"species\"].nunique()\n",
        "\n",
        "# 💡  Then we filter: Keep only genera with more than one species.\n",
        "multi_species_genera = genus_species_counts[genus_species_counts > 1].index.tolist()\n",
        "\n",
        "# 💡  We create a filter dataset to keep only relevant genera.\n",
        "filtered_df = data[data[\"genus\"].isin(multi_species_genera)]\n",
        "\n",
        "# 💡  Determine dimensions of our grid.\n",
        "num_genera = len(multi_species_genera)\n",
        "cols = 4\n",
        "rows = math.ceil(num_genera / cols)\n",
        "\n",
        "# 💡  We begin to create the grid.\n",
        "fig, axes = plt.subplots(rows, cols, figsize=(15, 5 * rows))\n",
        "axes = axes.flatten()\n",
        "\n",
        "# 💡  Use a loop to generate individual bar charts for each genus.\n",
        "for i, genus in enumerate(multi_species_genera):\n",
        "    genus_df = filtered_df[filtered_df[\"genus\"] == genus]\n",
        "    species_counts = genus_df[\"species\"].value_counts()\n",
        "\n",
        "    axes[i].bar(species_counts.index, species_counts.values, color='skyblue', edgecolor='black', width=0.8)\n",
        "    axes[i].set_title(f\"{genus} Species\", fontsize=16)\n",
        "    axes[i].set_ylabel(\"Count\", fontsize=14)\n",
        "    axes[i].tick_params(axis=\"x\", rotation=90, labelsize=12, labelrotation=90, which=\"both\")\n",
        "    axes[i].tick_params(axis=\"y\", labelsize=12)\n",
        "    axes[i].grid(axis='y', linestyle='--', alpha=0.7)\n",
        "\n",
        "# 💡  Hide any unused subplots.\n",
        "for j in range(i + 1, len(axes)):\n",
        "    fig.delaxes(axes[j])\n",
        "\n",
        "plt.tight_layout()\n",
        "plt.show()"
      ]
    },
    {
      "cell_type": "markdown",
      "id": "1f0fbc00",
      "metadata": {
        "id": "1f0fbc00"
      },
      "source": [
        "💡 This graph shows the complex relationship between bacterial groups and antibiotics. The connections tell us which antibiotics are frequently tested against which bacteria—and hint at potential gaps or biases in testing."
      ]
    },
    {
      "cell_type": "markdown",
      "id": "d9617746",
      "metadata": {
        "id": "d9617746"
      },
      "source": [
        "**General Conclusions:**\n",
        "\n",
        "**Hospital-Associated Pathogens Dominate**\n",
        "\n",
        "- `Klebsiella`, `Acinetobacter`, `Enterococcus`, `Pseudomonas`, and `Staphylococcus` are the most frequent, aligning with their role in nosocomial infections.\n",
        "\n",
        "**High Species Diversity in Some Genera**\n",
        "\n",
        "- `Pseudomonas` and `Staphylococcus` show multiple species, while `Salmonella` is dominated by `S. enterica` (and its subtypes).\n",
        "\n",
        "**Epidemiologically Relevant Bacteria**\n",
        "\n",
        "- The prevalence of `K. pneumoniae`, `A. baumannii`, `E. faecium`, `P. aeruginosa`, and `S. aureus` matches WHO’s list of critical antibiotic-resistant pathogens."
      ]
    },
    {
      "cell_type": "markdown",
      "id": "fa07a9b5",
      "metadata": {
        "id": "fa07a9b5"
      },
      "source": [
        "### 3.2 Antibiotic Resistance"
      ]
    },
    {
      "cell_type": "code",
      "execution_count": null,
      "id": "81ed8816",
      "metadata": {
        "id": "81ed8816"
      },
      "outputs": [],
      "source": [
        "# 💡  First we create a Dict to make the counts.\n",
        "\n",
        "resistance_counts = {}\n",
        "for row in data['antibiogram'].dropna():\n",
        "    for antibiotic, resistance in eval(row).items():\n",
        "        if antibiotic not in resistance_counts:\n",
        "            resistance_counts[antibiotic] = {}\n",
        "        if resistance not in resistance_counts[antibiotic]:\n",
        "            resistance_counts[antibiotic][resistance] = 0\n",
        "        resistance_counts[antibiotic][resistance] += 1\n",
        "\n",
        "# 💡  Convert Dict to DataFrame and fill missing values with 0.\n",
        "res_df = pd.DataFrame(resistance_counts).T.fillna(0)\n",
        "\n",
        "# 💡  Show 'em.\n",
        "res_df.plot(kind='bar', stacked=True, figsize=(20, 6))\n",
        "plt.title(\"Antibiotic Resistance Distribution\")\n",
        "plt.xticks(rotation=90)\n",
        "plt.grid(axis='y', linestyle='--', alpha=0.7)\n",
        "plt.ylabel(\"Count\", fontsize=14)\n",
        "plt.xlabel(\"Antibiotics\", fontsize=14)\n",
        "plt.title(\"Antibiotic Resistance Distribution\", fontsize=16)\n",
        "plt.legend(title=\"Resistance Type\", fontsize=12)\n",
        "plt.show()"
      ]
    },
    {
      "cell_type": "markdown",
      "id": "7b5fe492",
      "metadata": {
        "id": "7b5fe492"
      },
      "source": [
        "💡 This visualization helps us understand the data structure."
      ]
    },
    {
      "cell_type": "markdown",
      "id": "dac754bf",
      "metadata": {
        "id": "dac754bf"
      },
      "source": [
        "Some insights for the data:\n",
        "\n",
        "- **High Susceptibility for Beta-Lactams and Carbapenems**: Antibiotics like meropenem, imipenem, and cefepime show a strong dominance of susceptibility, indicating their continued effectiveness. Carbapenems, in particular, are broad-spectrum antibiotics often used as a last resort, which explains their relatively low resistance rates—likely due to their restricted clinical use compared to other antibiotics.\n",
        "\n",
        "- **Significant Resistance in Fluoroquinolones and Tetracyclines**: Ciprofloxacin, levofloxacin, and tetracycline display notable resistance. Fluoroquinolone resistance has been increasing globally, partly due to their widespread use in both human medicine and agriculture. Tetracycline resistance is also expected since it has been widely used for decades in both clinical and veterinary settings."
      ]
    },
    {
      "cell_type": "markdown",
      "id": "72edfa70",
      "metadata": {
        "id": "72edfa70"
      },
      "source": [
        "### 3.2.1 Top Antibiotic Susceptibility and Resistance"
      ]
    },
    {
      "cell_type": "code",
      "execution_count": null,
      "id": "57aeae62",
      "metadata": {
        "id": "57aeae62"
      },
      "outputs": [],
      "source": [
        "# 💡  Dict to store resistance counts.\n",
        "resistance_counts = {}\n",
        "\n",
        "# 💡  Process AB entries.\n",
        "for row in data['antibiogram'].dropna():\n",
        "    for antibiotic, resistance in eval(row).items():\n",
        "        if antibiotic not in resistance_counts:\n",
        "            resistance_counts[antibiotic] = {'resistant': 0, 'susceptible': 0}  # 💡  Track resistance & susceptibility\n",
        "        if resistance == 'resistant':\n",
        "            resistance_counts[antibiotic]['resistant'] += 1\n",
        "        elif resistance == 'susceptible':\n",
        "            resistance_counts[antibiotic]['susceptible'] += 1\n",
        "\n",
        "# 💡  Convert to DataFrame and sort.\n",
        "res_df = pd.DataFrame(resistance_counts).T.fillna(0)\n",
        "top_10_resistant = res_df.sort_values(by='resistant', ascending=False).head(10)\n",
        "top_10_susceptible = res_df.sort_values(by='susceptible', ascending=False).head(10)\n",
        "\n",
        "# 💡  Plot results side-by-side.\n",
        "fig, axes = plt.subplots(1, 2, figsize=(16, 6))\n",
        "\n",
        "# 💡  Plot resistant antibiotics.\n",
        "axes[0].bar(top_10_resistant.index, top_10_resistant['resistant'], color='orange', edgecolor='black')\n",
        "axes[0].set_title(\"Top 10 Antibiotics by Resistance\", fontsize=14)\n",
        "axes[0].set_ylabel(\"Count\", fontsize=12)\n",
        "axes[0].set_xticks(range(len(top_10_resistant.index)))\n",
        "axes[0].set_xticklabels(top_10_resistant.index, rotation=45, ha='right')\n",
        "axes[0].grid(axis='y', linestyle='--', alpha=0.7)\n",
        "\n",
        "# 💡  Plot susceptible antibiotics.\n",
        "axes[1].bar(top_10_susceptible.index, top_10_susceptible['susceptible'], color='green', edgecolor='black')\n",
        "axes[1].set_title(\"Top 10 Antibiotics by Susceptibility\", fontsize=14)\n",
        "axes[1].set_ylabel(\"Count\", fontsize=12)\n",
        "axes[1].set_xticks(range(len(top_10_susceptible.index)))\n",
        "axes[1].set_xticklabels(top_10_susceptible.index, rotation=45, ha='right')\n",
        "axes[1].grid(axis='y', linestyle='--', alpha=0.7)\n",
        "\n",
        "# 💡  Show 'em.\n",
        "plt.tight_layout()\n",
        "plt.show()"
      ]
    },
    {
      "cell_type": "markdown",
      "id": "675af8d3",
      "metadata": {
        "id": "675af8d3"
      },
      "source": [
        "💡 This visualization helps us understand the data structure."
      ]
    },
    {
      "cell_type": "markdown",
      "id": "d0d6679d",
      "metadata": {
        "id": "d0d6679d"
      },
      "source": [
        "1. **Most Resisted Antibiotics:**\n",
        "\n",
        "These findings suggest widespread resistance to these drugs, which aligns with known clinical trends:\n",
        "\n",
        "- **Tetracycline & Ampicillin:** These are older antibiotics that have been extensively used for decades in both human and veterinary medicine, contributing to bacterial adaptation and resistance.\n",
        "- **Ciprofloxacin:** A commonly prescribed fluoroquinolone, its overuse in both community and hospital settings has accelerated resistance development.\n",
        "- **Ceftriaxone:** A broad-spectrum cephalosporin, resistance to this antibiotic is particularly concerning because it is often used for severe infections like pneumonia and sepsis.\n",
        "\n",
        "2. **Most Susceptible Antibiotics:**\n",
        "\n",
        "On the other hand, gentamicin, ciprofloxacin, trimethoprim-sulfamethoxazole, and meropenem show high susceptibility rates, meaning bacteria are more likely to be sensitive to these treatments.\n",
        "\n",
        "- **Gentamicin:** An aminoglycoside primarily used in severe infections, resistance remains relatively low due to its limited use outside hospital settings.\n",
        "- **Meropenem:** A carbapenem, which is often reserved as a last-resort antibiotic, retains effectiveness against many resistant bacteria. However, its increased susceptibility may also indicate lack of widespread overuse compared to other classes.\n",
        "- **Trimethoprim-Sulfamethoxazole & Nalidixic Acid:** These antibiotics still show significant effectiveness, but their use should be closely monitored, since Trim-Sulf is usually a very common oral prescribed antibiotic."
      ]
    },
    {
      "cell_type": "markdown",
      "id": "f11c7569",
      "metadata": {
        "id": "f11c7569"
      },
      "source": [
        "### 3.2.2 Antibiotic Resistance by Class"
      ]
    },
    {
      "cell_type": "code",
      "execution_count": null,
      "id": "fe57f9f9",
      "metadata": {
        "id": "fe57f9f9"
      },
      "outputs": [],
      "source": [
        "# 💡  After a lot of investigation, we came with a classification of each Antibiotic on the dataset.\n",
        "\n",
        "antibiotic_classes = {\n",
        "    'Penicillins': ['penicillin', 'benzylpenicillin', 'ampicillin', 'amoxicillin', 'amoxicillin-clavulanic_acid',\n",
        "                    'piperacillin', 'piperacillin-tazobactam', 'ticarcillin', 'ticarcillin-clavulanic_acid',\n",
        "                    'carbenicillin', 'nafcillin', 'oxacillin', 'dicloxacillin', 'temocillin', 'mecillinam'],\n",
        "\n",
        "    'Cephalosporins (1G)': ['cephalexin', 'cefalexin', 'cefazolin', 'cephalothin', 'cefalotin'],\n",
        "    'Cephalosporins (2G)': ['cefuroxime', 'cefamandole', 'cefotetan', 'cefoxitin'],\n",
        "    'Cephalosporins (3G)': ['ceftriaxone', 'cefotaxime', 'cefpodoxime', 'ceftazidime', 'ceftazidime-clavulanic_acid','ceftizoxime', 'cefoperazone', 'cefixime','cefdinir'],\n",
        "    'Cephalosporins (4G)': ['cefepime'],\n",
        "    'Cephalosporins (5G)': ['ceftaroline', 'cefiderocol'],\n",
        "\n",
        "    'Carbapenems': ['imipenem', 'imipenem-edta-pa', 'imipenem-relebactam', 'meropenem', 'meropenem-vaborbactam','ertapenem', 'doripenem'],\n",
        "    'Monobactams': ['aztreonam'],\n",
        "    'β-lactamase inhibitors': ['sulbactam', 'clavulanic_acid', 'tazobactam'],\n",
        "    'Combination β-lactams': ['ampicillin-sulbactam', 'amoxicillin-clavulanate', 'ticarcillin-clavulanic_acid','cefotaxime-clavulanic_acid', 'ceftolozane-tazobactam','ceftazidime-avibactam'],\n",
        "    'Veterinary Cephalosporins': ['ceftiofur', 'cefovecin'],\n",
        "\n",
        "    'Quinolones': ['danofloxacin','ofloxacin', 'norfloxacin','delafloxacin', 'fluoroquinolone','marbofloxacin','ciprofloxacin', 'levofloxacin', 'moxifloxacin', 'norflaxacin', 'enrofloxacin', 'pradofloxacin', 'orbifloxacin', 'nalidixic_acid'],\n",
        "    'Aminoglycosides': ['capreomycin', 'gentamicin', 'spectinomycin','tobramycin', 'amikacin', 'kanamycin', 'netilmicin', 'apramycin', 'streptomycin', 'neomycin', 'plazomicin'],\n",
        "    'Tetracyclines': ['eravacycline','tetracycline', 'doxycycline', 'minocycline', 'oxytetracycline', 'chlortetracycline', 'tigecycline', 'omadacycline', 'tilmicosin'],\n",
        "    'Sulfonamides': ['sulfonamide','trimethoprim-sulfamethoxazole', 'sulfisoxazole', 'sulfadimethoxine', 'sulfamethoxazole','bactrim', ],\n",
        "    'Macrolides': ['azithromycin', 'tylosin','fidaxomicin','clarithromycin','surotomycin', 'erythromycin', 'telithromycin', 'spiramycin', 'midecamycin','tulathromycin'],\n",
        "    'Glycopeptides': ['vancomycin', 'teicoplanin', 'oritavancin'],\n",
        "    'Lincosamides': ['clindamycin', 'lincomycin'],\n",
        "    'Polypeptides': ['polymyxin_b', 'colistin', 'polymyxin''bacitracin'],\n",
        "    'Nitrofurans': ['nitrofurantoin', 'pefloxacin'],\n",
        "    'Bacteriostatics': ['triclosan','ethambutol','florfenicol', 'bacteriostatic'],\n",
        "    'Anti-Mycobacterium': ['isoniazid','rifabutin', 'rifampin', 'pyrazinamide', 'ethionamide', 'dapsone','cycloserine'],\n",
        "    'Antifungal': ['posaconazole','itraconazole', 'micafungin', 'caspofungin', 'anidulafungin','fluconazole', 'flucytosine', 'isavuconazole','amphotericin_b','voriconazole'],\n",
        "    'Oxasolidinones':['tedizolid', 'linezolid'],\n",
        "    'Other': ['chloramphenicol','daptomycin','metronidazole', 'rifaximin', 'mupirocin','ticlopidine','fosfomycin','trimethoprim','fusidic_acid', 'tiamulin', 'novobiocin','synercid','fosfomycin-glucose-6-phosphate', 'avilamycin','zoliflodacin','quinupristin-dalfopristin','quinupristin'],\n",
        "}\n",
        "\n",
        "\n",
        "\n",
        "# 💡  This way we can observe how common is the resistance of each group of antibiotics. We'll do a count.\n",
        "class_resistance = {}\n",
        "for row in data['antibiogram'].dropna():\n",
        "    for antibiotic, resistance in eval(row).items():\n",
        "        class_name = next((cls for cls, abx in antibiotic_classes.items() if antibiotic in abx), 'Unknown')\n",
        "        if class_name not in class_resistance:\n",
        "            class_resistance[class_name] = {}\n",
        "        if resistance not in class_resistance[class_name]:\n",
        "            class_resistance[class_name][resistance] = 0\n",
        "        class_resistance[class_name][resistance] += 1\n",
        "\n",
        "# 💡  Then we convert it to DF, drop the useless columns and show it.\n",
        "class_res_df = pd.DataFrame(class_resistance).T\n",
        "class_res_df = class_res_df.drop(columns= \"not defined\", index= \"Unknown\")\n",
        "class_res_df.plot(kind='bar', stacked=True, figsize=(20, 6))\n",
        "plt.title(\"Antibiotic Resistance Distribution by Class\")\n",
        "plt.xticks(rotation=90)\n",
        "plt.ylabel(\"Count\")\n",
        "plt.legend(title=\"Resistance Type\")\n",
        "plt.show()"
      ]
    },
    {
      "cell_type": "markdown",
      "id": "73ef805a",
      "metadata": {
        "id": "73ef805a"
      },
      "source": [
        "💡 This visualization helps us understand the data structure."
      ]
    },
    {
      "cell_type": "markdown",
      "id": "f5389a64",
      "metadata": {
        "id": "f5389a64"
      },
      "source": [
        "From this plot we can say:\n",
        "\n",
        "- We confirm that **Quinolones**, **penicillins**, and **tetracyclines** exhibit some of the highest resistance levels, suggesting widespread resistance mechanisms against these classes, possibly due to their frequent clinical use.\n",
        "\n",
        "- **Cephalosporins** (3rd and 4th generation) and **carbapenems** show lower resistance rates, indicating they may still be effective in many cases.\n",
        "\n",
        "- **Aminoglycosides** have high susceptibility rates but also significant resistance, likely due to selective pressure from their use in severe infections.\n",
        "\n",
        "- Classes like **polypeptides**, **glycopeptides**, and **oxazolidinones** show minimal resistance, possibly because they are used for multidrug-resistant infections."
      ]
    },
    {
      "cell_type": "markdown",
      "id": "06bb68e5",
      "metadata": {
        "id": "06bb68e5"
      },
      "source": [
        "### 3.2.3 Antibiotic Resistance by Organism"
      ]
    },
    {
      "cell_type": "code",
      "execution_count": null,
      "id": "74e08155",
      "metadata": {
        "id": "74e08155"
      },
      "outputs": [],
      "source": [
        "# 💡  Dict check, just in case.\n",
        "data['antibiogram'] = data['antibiogram'].apply(lambda x: ast.literal_eval(x) if isinstance(x, str) else x)\n",
        "\n",
        "# 💡  Expand the 'antibiogram' column into separate antibiotic columns.\n",
        "df_expanded = data[['species']].join(pd.DataFrame(data['antibiogram'].tolist()))\n",
        "\n",
        "# 💡  Reshape data to long format for easier processing.\n",
        "df_melting = df_expanded.melt(id_vars=['species'], var_name='antibiotic', value_name='result')\n",
        "\n",
        "# 💡  Use Counter to... Count Resistances and Susceptibilities.\n",
        "result_counts = Counter(\n",
        "    (row.species, row.antibiotic, row.result)\n",
        "    for _, row in df_melting.dropna().iterrows())\n",
        "\n",
        "# 💡  Convert Counter to DataFrame.\n",
        "resistance_counts = pd.DataFrame(result_counts, index=[0]).T.reset_index()\n",
        "resistance_counts.columns = ['species', 'antibiotic', 'result', 'count']\n",
        "\n",
        "# 💡  Pivot the DataFrame to get resistance and susceptibility counts.\n",
        "resistance_pivot = resistance_counts.pivot_table(index=['species', 'antibiotic'],\n",
        "                                                 columns='result', values='count', fill_value=0)\n",
        "\n",
        "# 💡  Ensure columns exist for both categories.\n",
        "if 'resistant' not in resistance_pivot:\n",
        "    resistance_pivot['resistant'] = 0\n",
        "if 'susceptible' not in resistance_pivot:\n",
        "    resistance_pivot['susceptible'] = 0\n",
        "\n",
        "# 💡  Then we use the countings and the total to compute the percentages.\n",
        "resistance_pivot['total'] = resistance_pivot['resistant'] + resistance_pivot['susceptible']\n",
        "resistance_pivot['resistance_percentage'] = (resistance_pivot['resistant'] / resistance_pivot['total']) * 100\n",
        "\n",
        "# 💡  Select the top 20 most common antibiotics and species, then we filter the data.\n",
        "top_20_antibiotics = resistance_pivot.groupby('antibiotic')['total'].sum().nlargest(20).index\n",
        "top_20_species = resistance_pivot.groupby('species')['total'].sum().nlargest(20).index\n",
        "resistance_pivot = resistance_pivot.loc[\n",
        "    (resistance_pivot.index.get_level_values(0).isin(top_20_species)) &\n",
        "    (resistance_pivot.index.get_level_values(1).isin(top_20_antibiotics))]\n",
        "\n",
        "# 💡  Pivot again to get the right format for visualization.\n",
        "resistance_percentage = resistance_pivot['resistance_percentage'].unstack()\n",
        "\n",
        "# 💡  Show 'em.\n",
        "plt.figure(figsize=(15, 8))\n",
        "sns.heatmap(resistance_percentage, cmap='Reds', annot=True, fmt='.1f', cbar_kws={'label': 'Resistance Percentage'})\n",
        "plt.title('Resistance Percentage per Bacterium')\n",
        "plt.xlabel('Antibiotic')\n",
        "plt.ylabel('Species')\n",
        "plt.tight_layout()\n",
        "plt.show()\n"
      ]
    },
    {
      "cell_type": "markdown",
      "id": "724fde04",
      "metadata": {
        "id": "724fde04"
      },
      "source": [
        "💡 This visualization helps us understand the data structure."
      ]
    },
    {
      "cell_type": "markdown",
      "id": "43669bec",
      "metadata": {
        "id": "43669bec"
      },
      "source": [
        "**Key Findings from the Resistance Data:**\n",
        "\n",
        "- **Critical Resistance in Klebsiella & Acinetobacter:** These species show near-total resistance (>90%) to multiple antibiotics, aligning with real-world concerns where Klebsiella pneumoniae and Acinetobacter baumannii are known for multidrug resistance in hospital settings.\n",
        "\n",
        "- **Worrying Resistance in Common Pathogens:** Escherichia coli and Salmonella enterica, two of the most common bacteria, show moderate to high resistance (30-50%) to key antibiotics like ciprofloxacin and ampicillin, reflecting global trends in increasing resistance due to overuse.\n",
        "\n",
        "- **Unexpected High Resistance in Some Cases:** Azithromycin resistance in Escherichia coli is unusually high, which is uncommon in clinical settings—this could indicate regional resistance trends or data bias that should be further investigated."
      ]
    },
    {
      "cell_type": "markdown",
      "id": "98ce963c",
      "metadata": {
        "id": "98ce963c"
      },
      "source": [
        "**Genetic Mechanisms:**"
      ]
    },
    {
      "cell_type": "markdown",
      "id": "e7536783",
      "metadata": {
        "id": "e7536783"
      },
      "source": [
        "Before we are able to access the information, we need to do some preprocessing with the data, taking some things in consideration:\n",
        "\n",
        "- The `genetic_mechanism` column's data is on list-list-dict format, as some bacteria (with the same BioSample ID) could have multiple genetic mechanisms.\n",
        "\n",
        "- There's a lot of organisms that lacks of `genetic_mechanisms` information (they either don't have any or it wasn't studied). So there's a lot of null values."
      ]
    },
    {
      "cell_type": "code",
      "execution_count": null,
      "id": "68f414fb",
      "metadata": {
        "id": "68f414fb"
      },
      "outputs": [],
      "source": [
        "# 💡  First, we need to parse the information in the genetic_mechanism colum.\n",
        "\n",
        "def parsing_gen_m(x):\n",
        "    if isinstance(x, str):\n",
        "        try:\n",
        "            return ast.literal_eval(x)\n",
        "        except (ValueError, SyntaxError):\n",
        "            return None\n",
        "    return x\n",
        "\n",
        "data['genetic_mechanisms'] = data['genetic_mechanisms'].apply(parsing_gen_m)\n",
        "\n",
        "# 💡  Filter the data to just show the information of bacteria WITH genetic_mechanism info.\n",
        "\n",
        "df_filtered = data[data['genetic_mechanisms'].apply(lambda x: isinstance(x, list) and len(x) > 0)].copy()\n",
        "\n",
        "# 💡  Extract genetic mechanisms, using the Element symbol as the \"ID\".\n",
        "df_filtered['mechanisms'] = df_filtered['genetic_mechanisms'].apply(\n",
        "    lambda lst: [m['Element symbol'] for m in lst if isinstance(m, dict) and 'Element symbol' in m])"
      ]
    },
    {
      "cell_type": "code",
      "execution_count": null,
      "id": "48fc9556",
      "metadata": {
        "id": "48fc9556"
      },
      "outputs": [],
      "source": [
        "\n",
        "# 💡  Flatten the list of genetic mechanisms across all rows\n",
        "all_mechanisms = [m for lst in df_filtered['mechanisms'].dropna() for m in lst]\n",
        "\n",
        "# 💡  Count occurrences of each genetic mechanism\n",
        "mechanism_counts = Counter(all_mechanisms)\n",
        "\n",
        "# 💡  Convert to DataFrame\n",
        "df_mechanisms = pd.DataFrame(mechanism_counts.items(), columns=['Mechanism', 'Count'])\n",
        "\n",
        "# 💡  Sort and keep the top 20 most frequent mechanisms\n",
        "df_mechanisms = df_mechanisms.sort_values(by='Count', ascending=False).head(20)\n",
        "\n",
        "# 💡  Plot\n",
        "plt.figure(figsize=(12, 6))\n",
        "sns.barplot(x='Count', y='Mechanism', data=df_mechanisms, hue='Mechanism', palette=\"Blues_r\")\n",
        "plt.xlabel(\"Frequency\")\n",
        "plt.ylabel(\"Resistance Gene\")\n",
        "plt.title(\"Top 20 Most Frequent Genetic Mechanisms\")\n",
        "plt.show()"
      ]
    },
    {
      "cell_type": "markdown",
      "id": "c5f3794a",
      "metadata": {
        "id": "c5f3794a"
      },
      "source": [
        "💡 This visualization helps us understand the data structure."
      ]
    },
    {
      "cell_type": "code",
      "execution_count": null,
      "id": "913a0808",
      "metadata": {
        "id": "913a0808"
      },
      "outputs": [],
      "source": [
        "# 💡  First: We extract genetic mechanisms, using the Element symbol as the \"ID\".\n",
        "df_filtered['mechanisms'] = df_filtered['genetic_mechanisms'].apply(\n",
        "    lambda lst: [m['Element symbol'] for m in lst if isinstance(m, dict) and 'Element symbol' in m]\n",
        ")\n",
        "\n",
        "# 💡  Second: We count occurrences of each genetic mechanism and we filter to 30 of the most commons as a sample (there's too much).\n",
        "mechanism_counts = df_filtered.explode('mechanisms')['mechanisms'].value_counts()\n",
        "top_mechanisms = mechanism_counts.nlargest(30).index\n",
        "\n",
        "# 💡  Third: We filter the dataframe to keep only the top mechanisms.\n",
        "df_filtered = df_filtered[df_filtered['mechanisms'].apply(lambda lst: any(m in top_mechanisms for m in lst))]\n",
        "\n",
        "# 💡  Fourh: We explode the filtered dataframe to have them all as columns.\n",
        "df_exploded = df_filtered.explode('mechanisms')\n",
        "\n",
        "# 💡  Fifth: Creating the heatmap data.\n",
        "heatmap_data = df_exploded.pivot_table(\n",
        "    index='species', columns='mechanisms', aggfunc='size', fill_value=0)\n",
        "\n",
        "# 💡  Sixth: Make some conversions for the data to show more clearly:\n",
        "# 💡  Convert to numeric, filter non-zero rows/columns and apply log transformation.\n",
        "\n",
        "heatmap_data = heatmap_data.apply(pd.to_numeric, errors='coerce')\n",
        "heatmap_data = heatmap_data.loc[(heatmap_data != 0).any(axis=1), (heatmap_data != 0).any(axis=0)]\n",
        "heatmap_data = np.log1p(heatmap_data)\n",
        "\n",
        "# 💡  Show 'em\n",
        "plt.figure(figsize=(20, 12))\n",
        "sns.heatmap(heatmap_data, cmap=\"Blues\", linewidths=0.5)\n",
        "plt.title(f\"Genetic Mechanisms by Species\")\n",
        "plt.xlabel(\"Genetic Mechanisms\")\n",
        "plt.ylabel(\"Species\")\n",
        "plt.xticks(rotation=90)\n",
        "plt.show()\n"
      ]
    },
    {
      "cell_type": "markdown",
      "id": "1a1482b9",
      "metadata": {
        "id": "1a1482b9"
      },
      "source": [
        "💡 This visualization helps us understand the data structure."
      ]
    },
    {
      "cell_type": "markdown",
      "id": "5db620ae",
      "metadata": {
        "id": "5db620ae"
      },
      "source": [
        "Some general insight:\n",
        "\n",
        "- Escherichia coli, Klebsiella pneumoniae, and Pseudomonas aeruginosa show a higher density of resistance mechanisms, indicating a broader range of genetic resistance.\n",
        "\n",
        "- Some resistance mechanisms appear across multiple genera, while others are species-specific, suggesting different evolutionary or acquisition patterns.\n",
        "\n",
        "**Potential Key Findings:**\n",
        "\n",
        "- Klebsiella and Escherichia share many resistance genes, likely due to genetic exchange, while Pseudomonas aeruginosa has a distinct resistance profile.\n",
        "\n",
        "- Rare resistance mechanisms appear at the edges of the heatmap, possibly representing less common or emerging resistance traits."
      ]
    },
    {
      "cell_type": "code",
      "execution_count": null,
      "id": "59555ccf",
      "metadata": {
        "id": "59555ccf"
      },
      "outputs": [],
      "source": [
        "# 💡 Build a binary matrix for resistance mechanisms\n",
        "mechanisms = set(mech for sublist in df_filtered[\"mechanisms\"] for mech in sublist)\n",
        "mech_df = pd.DataFrame({mech: df_filtered[\"mechanisms\"].apply(lambda x: mech in x).astype(int) for mech in mechanisms})\n",
        "\n",
        "# 💡 Build a binary matrix for antibiotic groups\n",
        "ab_resistance = pd.DataFrame({\n",
        "    group: df_filtered[\"antibiogram\"].apply(lambda x: any(x.get(ab) == \"resistant\" for ab in ab_list)).astype(int)\n",
        "    for group, ab_list in antibiotic_classes.items()\n",
        "})\n",
        "\n",
        "# 💡 Merge both DataFrames into a single table\n",
        "df_combined = pd.concat([mech_df, ab_resistance], axis=1)\n",
        "\n",
        "# 💡 Calculate and filter the correlation matrix\n",
        "corr_matrix = df_combined.corr()\n",
        "filtered_corr = corr_matrix.loc[mech_df.columns, ab_resistance.columns]\n",
        "\n",
        "# 💡 Split mechanisms by correlation threshold\n",
        "threshold = 0.3\n",
        "top_mechanisms = filtered_corr[filtered_corr.abs().max(axis=1) >= threshold]\n",
        "remaining_mechanisms = filtered_corr[filtered_corr.abs().max(axis=1) < threshold]\n",
        "\n",
        "# 💡 Plot side-by-side heatmaps to visualize the dance between mechanisms and antibiotics\n",
        "fig, axes = plt.subplots(1, 2, figsize=(24, 14))\n",
        "\n",
        "# 💡 Heatmap of highly correlated mechanisms\n",
        "sns.heatmap(top_mechanisms, cmap=\"coolwarm\", center=0, ax=axes[0])\n",
        "axes[0].set_title(\"Top Correlated Mechanisms\")\n",
        "\n",
        "# 💡 Heatmap of the less glamorous, low correlation mechanisms\n",
        "sns.heatmap(remaining_mechanisms, cmap=\"coolwarm\", center=0, ax=axes[1])\n",
        "axes[1].set_title(\"Remaining Mechanisms\")\n",
        "\n",
        "plt.tight_layout()\n",
        "plt.show()"
      ]
    },
    {
      "cell_type": "markdown",
      "id": "9176c966",
      "metadata": {
        "id": "9176c966"
      },
      "source": [
        "💡 This visualization helps us understand the data structure."
      ]
    },
    {
      "cell_type": "markdown",
      "id": "48f3b357",
      "metadata": {
        "id": "48f3b357"
      },
      "source": [
        "Some of the highlights extracted from the data:\n",
        "\n",
        "**β-Lactam Resistance (Penicillins, Cephalosporins, Carbapenems):**\n",
        "\n",
        "\n",
        "**blaOXA, blaCTX-M, blaCMY, blaNDM, blaSHV, blaTEM** genes show strong correlations with **β-lactam antibiotic classes**.\n",
        "\n",
        "* These genes encode β-lactamases, enzymes that hydrolyze β-lactam rings, inactivating the antibiotic.\n",
        "\n",
        "* Example: **blaCTX-M** is known for conferring resistance to third-generation **cephalosporins** (Ceftriaxone, Ceftazidime), which aligns with its high correlation in the heatmap.\n",
        "\n",
        "\n",
        "**blaOXA-23, blaOXA-48, blaNDM-1** correlate strongly with **Carbapenem** resistance (Imipenem, Meropenem).\n",
        "\n",
        "* These genes are carbapenemases, breaking down carbapenems and making them ineffective.\n",
        "* Example: **blaNDM-1** is highly associated with Carbapenem-resistant Enterobacteriaceae (CRE) outbreaks worldwide.\n",
        "\n",
        "\n",
        "**Fluoroquinolone Resistance (Ciprofloxacin, Levofloxacin):**\n",
        "\n",
        "**qnr, aac(6')-Ib-cr, gyrA, parC** mutations show high correlation with fluoroquinolone resistance.\n",
        "\n",
        "* Fluoroquinolones target **DNA gyrase** (gyrA) and **topoisomerase IV** (parC), so mutations in these genes reduce antibiotic binding.\n",
        "* Example: **qnr** genes provide protection to **DNA gyrase**, lowering drug efficacy, often found in *E. coli* and *Klebsiella pneumoniae.*\n",
        "\n",
        "\n",
        "**Aminoglycoside Resistance (Gentamicin, Amikacin):**\n",
        "\n",
        "**aac(3)-II, aac(6')-Ib, ant(2'')-Ia, aph(3')-VIa** correlate with aminoglycoside resistance.\n",
        "\n",
        "* These genes encode aminoglycoside-modifying enzymes that inactivate the antibiotic by acetylation, adenylation, or phosphorylation.\n",
        "* Example: **aac(6')-Ib** is widely found in *Pseudomonas aeruginosa* and *Enterobacteriaceae*.\n",
        "\n",
        "**Macrolide Resistance (Erythromycin, Azithromycin):**\n",
        "\n",
        "**erm(B), mph(A), mef(A)** correlate strongly with macrolide resistance.\n",
        "\n",
        "* erm(B) confers resistance by methylating the 23S rRNA, preventing macrolide binding.\n",
        "* Example: **erm** genes are often found in *Streptococcus pneumoniae* and *Staphylococcus aureus*, leading to MLS (Macrolide-Lincosamide-Streptogramin) resistance.\n",
        "\n",
        "**Sulfonamide & Trimethoprim Resistance**\n",
        "\n",
        "**sul1, sul2 (sulfonamide resistance) and dfrA (trimethoprim resistance)** show strong positive correlations with their respective drug classes.\n",
        "\n",
        "* sul genes encode mutant dihydropteroate synthase, making sulfonamides ineffective.\n",
        "* Example: sul2 is common in plasmids of multi-drug-resistant (MDR) E. coli.\n"
      ]
    },
    {
      "cell_type": "code",
      "execution_count": null,
      "id": "363ba309",
      "metadata": {
        "id": "363ba309"
      },
      "outputs": [],
      "source": [
        "# 💡 Build connections between genes and bacterial families\n",
        "gene_family_connections = {}\n",
        "\n",
        "for _, row in df_filtered.iterrows():\n",
        "    family = row[\"organism_group\"]\n",
        "    genes = row[\"mechanisms\"]\n",
        "\n",
        "    for gene in genes:\n",
        "        if gene not in gene_family_connections:\n",
        "            gene_family_connections[gene] = set()\n",
        "        gene_family_connections[gene].add(family)\n",
        "\n",
        "# 💡 Filter out genes found in only one family (cleaning up the noise)\n",
        "gene_family_connections = {gene: families for gene, families in gene_family_connections.items() if len(families) > 1}\n",
        "\n",
        "# 💡 Time to build the graph!\n",
        "G = nx.Graph()\n",
        "\n",
        "for gene, families in gene_family_connections.items():\n",
        "    G.add_node(gene, type=\"gene\")  # 💡 Gene node\n",
        "    for family in families:\n",
        "        G.add_node(family, type=\"family\")  # 💡 Bacterial family node\n",
        "        G.add_edge(gene, family)  # 💡 Connect gene with family\n",
        "\n",
        "# 💡 Calculate centrality and degree metrics to find the key players\n",
        "centrality = nx.betweenness_centrality(G)\n",
        "degree = dict(G.degree())\n",
        "\n",
        "# 💡 Adjust node sizes based on their connections\n",
        "node_sizes = {node: 300 + degree[node] * 15 for node in G.nodes}\n",
        "\n",
        "# 💡 Highlight only the most central nodes (top influencers)\n",
        "top_central_nodes = {node for node, val in sorted(centrality.items(), key=lambda x: x[1], reverse=True)[:40]}\n",
        "\n",
        "# 💡 Use a layout that gives everyone room to breathe\n",
        "plt.figure(figsize=(18, 14))\n",
        "pos = nx.fruchterman_reingold_layout(G)\n",
        "\n",
        "# 💡 Split nodes by type for better coloring\n",
        "nodes_gene = [node for node, attr in G.nodes(data=True) if attr[\"type\"] == \"gene\"]\n",
        "nodes_family = [node for node, attr in G.nodes(data=True) if attr[\"type\"] == \"family\"]\n",
        "\n",
        "# 💡 Draw the nodes with transparency for a cleaner look\n",
        "nx.draw_networkx_nodes(G, pos, nodelist=nodes_gene, node_color=\"red\", alpha=0.7, node_size=[node_sizes[n] for n in nodes_gene])\n",
        "nx.draw_networkx_nodes(G, pos, nodelist=nodes_family, node_color=\"blue\", alpha=0.8, node_size=[node_sizes[n] for n in nodes_family])\n",
        "nx.draw_networkx_edges(G, pos, alpha=0.3, width=0.5)\n",
        "\n",
        "# 💡 Add labels only to the VIP nodes (top central ones)\n",
        "labels = {node: node for node in G.nodes if node in top_central_nodes}\n",
        "nx.draw_networkx_labels(G, pos, labels, font_size=8, font_color=\"black\")\n",
        "\n",
        "plt.title(\"Network of Resistance Genes Shared Among Bacterial Families\")\n",
        "plt.show()\n",
        "\n",
        "# 💡 Let's see who runs the microbial show—top genes by centrality\n",
        "sorted_centrality = sorted(centrality.items(), key=lambda x: x[1], reverse=True)\n",
        "print(\"Top 10 genes by betweenness centrality:\")\n",
        "for gene, value in sorted_centrality[:10]:\n",
        "    print(f\"{gene}: {value:.4f}\")"
      ]
    },
    {
      "cell_type": "markdown",
      "id": "b6acbe53",
      "metadata": {
        "id": "b6acbe53"
      },
      "source": [
        "💡 This visualization helps us understand the data structure."
      ]
    },
    {
      "cell_type": "markdown",
      "id": "a85fd92a",
      "metadata": {
        "id": "a85fd92a"
      },
      "source": [
        "**Key Observations & Conclusions:**\n",
        "\n",
        "**Escherichia spp. and Klebsiella spp. are the most central**\n",
        "\n",
        "* These two have the highest betweenness centrality, meaning they serve as key intermediaries connecting different resistance genes and bacterial families.\n",
        "\n",
        "* This suggests they share resistance mechanisms broadly, possibly acting as reservoirs for antibiotic resistance genes.\n",
        "\n",
        "**Salmonella spp. and Enterobacter spp. are also highly connected**\n",
        "\n",
        "* Salmonella’s high centrality suggests it shares resistance genes with multiple families, which could have implications for foodborne infections.\n",
        "\n",
        "* Enterobacter’s centrality aligns with its known role as a multidrug-resistant pathogen in hospitals.\n",
        "\n",
        "**Acinetobacter spp. & Pseudomonas spp. appear as hubs**\n",
        "\n",
        "* Both are opportunistic pathogens often linked to hospital infections. Their position in the network suggests they share resistance genes with multiple families, reinforcing concerns about their adaptability.\n",
        "\n",
        "**Shigella spp. & Serratia spp. have lower but relevant centrality**\n",
        "\n",
        "* These species might not be as highly connected but still share important resistance mechanisms, possibly with more specific groups.\n"
      ]
    },
    {
      "cell_type": "code",
      "execution_count": null,
      "id": "75052c0b",
      "metadata": {
        "id": "75052c0b"
      },
      "outputs": [],
      "source": [
        "# 💡  Adjust node positions with more spacing\n",
        "pos = nx.spring_layout(G, seed=42, k=0.35)  # 💡  Increased k for better spacing\n",
        "\n",
        "plt.figure(figsize=(20, 15))\n",
        "\n",
        "# 💡  Draw regular genes (red)\n",
        "nx.draw_networkx_nodes(G, pos, nodelist=nodes_gene, node_color=\"red\", node_size=80)\n",
        "\n",
        "# 💡  Draw bacterial families (blue)\n",
        "nx.draw_networkx_nodes(G, pos, nodelist=nodes_family, node_color=\"blue\", node_size=300)\n",
        "\n",
        "# 💡  Compute degree centrality for all nodes\n",
        "degree = dict(G.degree())\n",
        "\n",
        "# 💡  Filter only gene nodes\n",
        "degree_genes = {gene: degree[gene] for gene in nodes_gene}\n",
        "\n",
        "# 💡  Select the top 10 most connected genes\n",
        "top_genes = sorted(degree_genes.items(), key=lambda x: x[1], reverse=True)[:10]\n",
        "\n",
        "# 💡  Highlight top central genes (yellow) with larger sizes\n",
        "top_gene_names = [gene for gene, _ in top_genes]\n",
        "top_gene_sizes = [500 + np.log(degree[gene]) * 300 for gene in top_gene_names]\n",
        "nx.draw_networkx_nodes(G, pos, nodelist=top_gene_names, node_color=\"yellow\", node_size=top_gene_sizes)\n",
        "\n",
        "# 💡  Draw edges with even lower opacity to avoid clutter\n",
        "nx.draw_networkx_edges(G, pos, alpha=0.05)\n",
        "\n",
        "# 💡  Labels only for top genes and key bacterial families\n",
        "labels = {node: node for node in top_gene_names}\n",
        "for family in nodes_family:\n",
        "    if degree[family] > 10:  # 💡  Label only highly connected families\n",
        "        labels[family] = family\n",
        "\n",
        "# 💡  Add labels with white background for better readability\n",
        "nx.draw_networkx_labels(\n",
        "    G, pos, labels=labels, font_size=12, font_weight=\"bold\",\n",
        "    font_color=\"black\", bbox=dict(facecolor=\"white\", alpha=0.6, edgecolor=\"none\")\n",
        ")\n",
        "\n",
        "plt.title(\"Refined Network of Resistance Genes Shared Among Bacterial Families\")\n",
        "plt.show()"
      ]
    },
    {
      "cell_type": "markdown",
      "id": "72202caf",
      "metadata": {
        "id": "72202caf"
      },
      "source": [
        "💡 This visualization helps us understand the data structure."
      ]
    },
    {
      "cell_type": "markdown",
      "id": "413bb731",
      "metadata": {
        "id": "413bb731"
      },
      "source": [
        "**Real-Life Implications of This Network Analysis:**\n",
        "\n",
        "**Escherichia spp. and Klebsiella spp. as Resistance Hubs: A Public Health Concern**\n",
        "\n",
        "* Both Escherichia spp. (including E. coli) and Klebsiella spp. are known for their role in hospital-acquired infections (HAIs).\n",
        "Their high centrality suggests they play a major role in the horizontal transfer of resistance genes.\n",
        "\n",
        "* Klebsiella pneumoniae, for instance, is notorious for carbapenem resistance (KPC-producing strains), a major clinical challenge.\n",
        "The frequent genetic exchange in Escherichia coli makes it a key reservoir for resistance genes that can spread to both commensal and pathogenic strains.\n",
        "\n",
        "\n",
        "**Salmonella spp: Foodborne Pathogen with Increasing Resistance**\n",
        "\n",
        "* Salmonella spp. is a major cause of foodborne illness worldwide.\n",
        "Its high centrality indicates that it is acquiring and sharing resistance genes with other bacteria, possibly due to antibiotic use in livestock.\n",
        "\n",
        "* Multidrug-resistant (MDR) Salmonella strains (e.g., producing extended-spectrum β-lactamases or ESBLs) have been reported in both human and veterinary medicine.\n",
        "\n",
        "\n",
        "**Enterobacter spp. & Acinetobacter spp: Hospital Hotspots of Resistance**\n",
        "\n",
        "* Enterobacter spp. and Acinetobacter spp. are well-known causes of bloodstream infections and ventilator-associated pneumonia in hospitalized patients.\n",
        "\n",
        "* The network suggests they are well-connected, meaning they likely share resistance genes with multiple bacteria, including carbapenemases.\n",
        "\n",
        "* Acinetobacter baumannii is one of the most dangerous MDR pathogens, commonly resistant to almost all available antibiotics.\n",
        "\n",
        "\n",
        "**Pseudomonas spp: An Opportunistic Multidrug-Resistant Pathogen**\n",
        "\n",
        "* Pseudomonas aeruginosa is a classic example of an opportunistic pathogen with intrinsic and acquired resistance mechanisms.\n",
        "\n",
        "* The network suggests that it is well-integrated, meaning it is likely acquiring resistance genes through horizontal gene transfer (HGT).\n",
        "\n",
        "**This aligns with real-world data:** P. aeruginosa often carries resistance genes to carbapenems and aminoglycosides, making infections difficult to treat.\n",
        "\n",
        "\n",
        "**Shigella & Serratia spp:Lower but Still Significant**\n",
        "\n",
        "* Shigella spp. (related to E. coli) is a major cause of bacterial dysentery. Its presence in this network suggests ongoing gene transfer, which is concerning given its rising resistance to fluoroquinolones and azithromycin.\n",
        "\n",
        "* Serratia spp. are often underestimated but are emerging in hospital settings, particularly in bloodstream infections."
      ]
    },
    {
      "cell_type": "markdown",
      "id": "5527c29c",
      "metadata": {
        "id": "5527c29c"
      },
      "source": [
        "## ✅ Conclusions & Next Steps\n",
        "\n",
        "We've successfully peeked into the microbial universe and brought order to the data chaos.\n",
        "Key takeaways from this EDA adventure:\n",
        "- The dataset is messy, diverse, and rich—perfect fuel for modeling.\n",
        "- We spotted patterns in resistance profiles and gaps in metadata we should handle carefully in modeling.\n",
        "- Genetic markers and organism groups are now aligned and ready to become input for our machine learning wizardry.\n",
        "\n",
        "### Next Steps:\n",
        "- Move forward to feature engineering and modeling.\n",
        "- Start the robustness testing phase (where we'll throw the weirdest samples at the model and see if it panics).\n",
        "\n",
        "Stay tuned for the next chapter in the Flemming saga. 🚀\n"
      ]
    }
  ],
  "metadata": {
    "colab": {
      "provenance": []
    }
  },
  "nbformat": 4,
  "nbformat_minor": 5
}