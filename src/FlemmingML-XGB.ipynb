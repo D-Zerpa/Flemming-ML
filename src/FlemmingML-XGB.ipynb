{
  "cells": [
    {
      "cell_type": "code",
      "execution_count": 1,
      "metadata": {
        "colab": {
          "base_uri": "https://localhost:8080/"
        },
        "id": "YO067wDNTYEV",
        "outputId": "dbcd6bb5-2031-40b8-c040-6bf9b49b9adc"
      },
      "outputs": [],
      "source": [
        "import pandas as pd\n",
        "import ast\n",
        "from collections import Counter\n",
        "from sklearn.preprocessing import LabelEncoder\n",
        "from xgboost import XGBClassifier\n",
        "from sklearn.model_selection import train_test_split\n",
        "from sklearn.metrics import classification_report\n",
        "from sklearn.preprocessing import MultiLabelBinarizer\n",
        "from tqdm import tqdm"
      ]
    },
    {
      "cell_type": "code",
      "execution_count": 2,
      "metadata": {
        "colab": {
          "base_uri": "https://localhost:8080/",
          "height": 293
        },
        "id": "KfL8zTt4TIxU",
        "outputId": "0c717f35-8715-4283-8733-52368ae9727f"
      },
      "outputs": [
        {
          "data": {
            "text/html": [
              "<div>\n",
              "<style scoped>\n",
              "    .dataframe tbody tr th:only-of-type {\n",
              "        vertical-align: middle;\n",
              "    }\n",
              "\n",
              "    .dataframe tbody tr th {\n",
              "        vertical-align: top;\n",
              "    }\n",
              "\n",
              "    .dataframe thead th {\n",
              "        text-align: right;\n",
              "    }\n",
              "</style>\n",
              "<table border=\"1\" class=\"dataframe\">\n",
              "  <thead>\n",
              "    <tr style=\"text-align: right;\">\n",
              "      <th></th>\n",
              "      <th>accession</th>\n",
              "      <th>date</th>\n",
              "      <th>organism</th>\n",
              "      <th>geographic_location</th>\n",
              "      <th>isolation_source</th>\n",
              "      <th>genetic_mechanisms</th>\n",
              "      <th>antibiogram</th>\n",
              "    </tr>\n",
              "  </thead>\n",
              "  <tbody>\n",
              "    <tr>\n",
              "      <th>0</th>\n",
              "      <td>SAMN46923997</td>\n",
              "      <td>2025-02</td>\n",
              "      <td>neisseria gonorrhoeae</td>\n",
              "      <td>usa</td>\n",
              "      <td>rectal</td>\n",
              "      <td>none</td>\n",
              "      <td>{'ciprofloxacin': 'intermediate', 'penicillin'...</td>\n",
              "    </tr>\n",
              "    <tr>\n",
              "      <th>1</th>\n",
              "      <td>SAMN46841726</td>\n",
              "      <td>2025-02</td>\n",
              "      <td>klebsiella pneumoniae</td>\n",
              "      <td>brazil</td>\n",
              "      <td>blood</td>\n",
              "      <td>none</td>\n",
              "      <td>{'cefotaxime': 'resistant', 'ceftazidime': 're...</td>\n",
              "    </tr>\n",
              "    <tr>\n",
              "      <th>2</th>\n",
              "      <td>SAMN46841725</td>\n",
              "      <td>2025-02</td>\n",
              "      <td>klebsiella pneumoniae</td>\n",
              "      <td>brazil</td>\n",
              "      <td>blood</td>\n",
              "      <td>none</td>\n",
              "      <td>{'cefotaxime': 'resistant', 'ceftazidime': 're...</td>\n",
              "    </tr>\n",
              "    <tr>\n",
              "      <th>3</th>\n",
              "      <td>SAMN46841724</td>\n",
              "      <td>2025-02</td>\n",
              "      <td>klebsiella pneumoniae</td>\n",
              "      <td>brazil</td>\n",
              "      <td>blood</td>\n",
              "      <td>none</td>\n",
              "      <td>{'cefotaxime': 'resistant', 'ceftazidime': 're...</td>\n",
              "    </tr>\n",
              "    <tr>\n",
              "      <th>4</th>\n",
              "      <td>SAMN46841723</td>\n",
              "      <td>2025-02</td>\n",
              "      <td>klebsiella pneumoniae</td>\n",
              "      <td>brazil</td>\n",
              "      <td>ascitic fluid</td>\n",
              "      <td>none</td>\n",
              "      <td>{'cefotaxime': 'resistant', 'ceftazidime': 're...</td>\n",
              "    </tr>\n",
              "  </tbody>\n",
              "</table>\n",
              "</div>"
            ],
            "text/plain": [
              "      accession     date               organism geographic_location  \\\n",
              "0  SAMN46923997  2025-02  neisseria gonorrhoeae                 usa   \n",
              "1  SAMN46841726  2025-02  klebsiella pneumoniae              brazil   \n",
              "2  SAMN46841725  2025-02  klebsiella pneumoniae              brazil   \n",
              "3  SAMN46841724  2025-02  klebsiella pneumoniae              brazil   \n",
              "4  SAMN46841723  2025-02  klebsiella pneumoniae              brazil   \n",
              "\n",
              "  isolation_source genetic_mechanisms  \\\n",
              "0           rectal               none   \n",
              "1            blood               none   \n",
              "2            blood               none   \n",
              "3            blood               none   \n",
              "4    ascitic fluid               none   \n",
              "\n",
              "                                         antibiogram  \n",
              "0  {'ciprofloxacin': 'intermediate', 'penicillin'...  \n",
              "1  {'cefotaxime': 'resistant', 'ceftazidime': 're...  \n",
              "2  {'cefotaxime': 'resistant', 'ceftazidime': 're...  \n",
              "3  {'cefotaxime': 'resistant', 'ceftazidime': 're...  \n",
              "4  {'cefotaxime': 'resistant', 'ceftazidime': 're...  "
            ]
          },
          "execution_count": 2,
          "metadata": {},
          "output_type": "execute_result"
        }
      ],
      "source": [
        "df = pd.read_csv(r'../data/interim/final_data_base.csv')\n",
        "df.head()"
      ]
    },
    {
      "cell_type": "code",
      "execution_count": 3,
      "metadata": {
        "colab": {
          "base_uri": "https://localhost:8080/"
        },
        "id": "ldxSaHI0gJDz",
        "outputId": "1db65275-f9ac-4605-c68c-d34dc82c7d3c"
      },
      "outputs": [
        {
          "name": "stdout",
          "output_type": "stream",
          "text": [
            "[\"{'ciprofloxacin': 'intermediate', 'penicillin': 'resistant', 'tetracycline': 'resistant', 'cefepime': 'susceptible', 'cefixime': 'susceptible', 'ceftriaxone': 'susceptible', 'cefoxitin': 'susceptible', 'cefotaxime': 'susceptible'}\", \"{'cefotaxime': 'resistant', 'ceftazidime': 'resistant', 'cefepime': 'resistant', 'ertapenem': 'resistant', 'imipenem': 'resistant', 'meropenem': 'resistant', 'ciprofloxacin': 'resistant', 'gentamicin': 'resistant', 'polymyxin_b': 'resistant'}\", \"{'cefotaxime': 'resistant', 'ceftazidime': 'resistant', 'cefepime': 'resistant', 'ertapenem': 'resistant', 'imipenem': 'resistant', 'meropenem': 'resistant', 'ciprofloxacin': 'resistant', 'gentamicin': 'resistant', 'polymyxin_b': 'resistant'}\", \"{'cefotaxime': 'resistant', 'ceftazidime': 'resistant', 'cefepime': 'resistant', 'ertapenem': 'resistant', 'imipenem': 'resistant', 'meropenem': 'resistant', 'ciprofloxacin': 'resistant', 'gentamicin': 'susceptible', 'polymyxin_b': 'resistant'}\", \"{'cefotaxime': 'resistant', 'ceftazidime': 'resistant', 'cefepime': 'resistant', 'ertapenem': 'resistant', 'imipenem': 'resistant', 'meropenem': 'resistant', 'ciprofloxacin': 'resistant', 'gentamicin': 'resistant', 'polymyxin_b': 'susceptible'}\"]\n",
            "<class 'str'>\n",
            "{'ciprofloxacin': 'intermediate', 'penicillin': 'resistant', 'tetracycline': 'resistant', 'cefepime': 'susceptible', 'cefixime': 'susceptible', 'ceftriaxone': 'susceptible', 'cefoxitin': 'susceptible', 'cefotaxime': 'susceptible'}\n"
          ]
        }
      ],
      "source": [
        "# 1. What does the raw column look like?\n",
        "print(df['antibiogram'].head(5).tolist())\n",
        "print(type(df['antibiogram'].iloc[0]))\n",
        "\n",
        "# 2. Try parsing one manually\n",
        "print(ast.literal_eval(df['antibiogram'].iloc[0]))\n"
      ]
    },
    {
      "cell_type": "markdown",
      "metadata": {
        "id": "RMbuMWrksO2O"
      },
      "source": [
        "1 . XGBoost approach"
      ]
    },
    {
      "cell_type": "code",
      "execution_count": 6,
      "metadata": {
        "id": "WfK-sStwsOMM"
      },
      "outputs": [],
      "source": [
        "tqdm.pandas()  # Enables progress_apply\n",
        "\n",
        "def preprocess_for_xgboost(df, min_antibiotic_freq=10, min_gene_freq=50):\n",
        "    def safe_parse_antibiogram(val):\n",
        "        try:\n",
        "            parsed = ast.literal_eval(val)\n",
        "            if isinstance(parsed, dict):\n",
        "                return parsed\n",
        "        except Exception:\n",
        "            pass\n",
        "        return {}\n",
        "\n",
        "    def safe_parse_genes(val):\n",
        "        try:\n",
        "            parsed = ast.literal_eval(val)\n",
        "            if isinstance(parsed, list):\n",
        "                return parsed\n",
        "        except Exception:\n",
        "            pass\n",
        "        return []\n",
        "\n",
        "    df = df.copy()\n",
        "\n",
        "    print(\"Parsing 'antibiogram' column...\")\n",
        "    df['antibiogram'] = df['antibiogram'].progress_apply(safe_parse_antibiogram)\n",
        "\n",
        "    print(\"Parsing 'genetic_mechanisms' column...\")\n",
        "    df['genetic_mechanisms'] = df['genetic_mechanisms'].progress_apply(safe_parse_genes)\n",
        "\n",
        "    # --- Antibiotic Encoding ---\n",
        "    print(\"Counting antibiotic frequencies...\")\n",
        "    all_antibiotics = [k for d in tqdm(df['antibiogram'], desc=\"Collecting antibiotics\") for k in d.keys()]\n",
        "    antibiotic_counts = pd.Series(all_antibiotics).value_counts()\n",
        "    common_antibiotics = antibiotic_counts[antibiotic_counts >= min_antibiotic_freq].index.tolist()\n",
        "\n",
        "    status_map = {'resistant': 1, 'intermediate': 0.5, 'susceptible': 0}\n",
        "    print(\"Encoding antibiotic resistance levels...\")\n",
        "    ab_data = {\n",
        "        f'antibiotic_{ab}': df['antibiogram'].progress_apply(lambda d: status_map.get(d.get(ab, 'unknown'), -1))\n",
        "        for ab in tqdm(common_antibiotics, desc=\"Encoding antibiotics\")\n",
        "    }\n",
        "    ab_matrix = pd.DataFrame(ab_data)\n",
        "\n",
        "    # --- Genetic Marker Encoding ---\n",
        "    print(\"Counting genetic marker frequencies...\")\n",
        "    all_genes = [gene for sublist in tqdm(df['genetic_mechanisms'], desc=\"Collecting genes\") for gene in sublist]\n",
        "    gene_counts = pd.Series(all_genes).value_counts()\n",
        "    common_genes = gene_counts[gene_counts >= min_gene_freq].index.tolist()\n",
        "\n",
        "    print(\"One-hot encoding genetic markers...\")\n",
        "    mlb = MultiLabelBinarizer(classes=common_genes)\n",
        "    gene_matrix = pd.DataFrame(\n",
        "        mlb.fit_transform(df['genetic_mechanisms']),\n",
        "        columns=[f'gene_{g}' for g in mlb.classes_],\n",
        "        index=df.index\n",
        "    )\n",
        "\n",
        "    print(\"Merging final dataframe...\")\n",
        "    df_processed = pd.concat(\n",
        "        [df.drop(columns=['antibiogram', 'genetic_mechanisms']), ab_matrix, gene_matrix],\n",
        "        axis=1\n",
        "    )\n",
        "\n",
        "    print(\"Done.\")\n",
        "    return df_processed, common_antibiotics\n",
        "\n",
        "\n",
        "\n",
        "def train_models(df, antibiotic_list):\n",
        "    features = df.drop(columns=[col for col in df.columns if col.endswith('_resistant')])\n",
        "    models = {}\n",
        "    reports = {}\n",
        "\n",
        "    for ab in antibiotic_list:\n",
        "        target_col = f\"{ab}_resistant\"\n",
        "        valid_rows = df[target_col].notna()\n",
        "\n",
        "        X = features.loc[valid_rows]\n",
        "        y = df.loc[valid_rows, target_col]\n",
        "\n",
        "        X_train, X_test, y_train, y_test = train_test_split(X, y, stratify=y, test_size=0.2, random_state=42)\n",
        "\n",
        "        model = XGBClassifier(use_label_encoder=False, eval_metric='logloss')\n",
        "        model.fit(X_train, y_train)\n",
        "\n",
        "        y_pred = model.predict(X_test)\n",
        "        report = classification_report(y_test, y_pred, output_dict=True)\n",
        "\n",
        "        models[ab] = model\n",
        "        reports[ab] = report\n",
        "\n",
        "    return models, reports\n",
        "\n"
      ]
    },
    {
      "cell_type": "code",
      "execution_count": 7,
      "metadata": {
        "colab": {
          "base_uri": "https://localhost:8080/"
        },
        "id": "Zi0ItAgjsYlW",
        "outputId": "af176bf5-5eac-44b3-f42c-89a6d4691976"
      },
      "outputs": [
        {
          "name": "stdout",
          "output_type": "stream",
          "text": [
            "Parsing 'antibiogram' column...\n"
          ]
        },
        {
          "name": "stderr",
          "output_type": "stream",
          "text": [
            "100%|██████████| 35253/35253 [00:02<00:00, 13291.03it/s]\n"
          ]
        },
        {
          "name": "stdout",
          "output_type": "stream",
          "text": [
            "Parsing 'genetic_mechanisms' column...\n"
          ]
        },
        {
          "name": "stderr",
          "output_type": "stream",
          "text": [
            "100%|██████████| 35253/35253 [00:20<00:00, 1707.99it/s]\n"
          ]
        },
        {
          "name": "stdout",
          "output_type": "stream",
          "text": [
            "Counting antibiotic frequencies...\n"
          ]
        },
        {
          "name": "stderr",
          "output_type": "stream",
          "text": [
            "Collecting antibiotics: 100%|██████████| 35253/35253 [00:00<00:00, 453576.32it/s]\n"
          ]
        },
        {
          "name": "stdout",
          "output_type": "stream",
          "text": [
            "Encoding antibiotic resistance levels...\n"
          ]
        },
        {
          "name": "stderr",
          "output_type": "stream",
          "text": [
            "100%|██████████| 35253/35253 [00:00<00:00, 756481.12it/s]t/s]\n",
            "100%|██████████| 35253/35253 [00:00<00:00, 740991.04it/s]\n",
            "100%|██████████| 35253/35253 [00:00<00:00, 733838.23it/s], 18.70it/s]\n",
            "100%|██████████| 35253/35253 [00:00<00:00, 719112.71it/s]\n",
            "100%|██████████| 35253/35253 [00:00<00:00, 707489.65it/s], 18.41it/s]\n",
            "100%|██████████| 35253/35253 [00:00<00:00, 703223.10it/s]\n",
            "100%|██████████| 35253/35253 [00:00<00:00, 813795.72it/s], 17.96it/s]\n",
            "100%|██████████| 35253/35253 [00:00<00:00, 747962.93it/s]\n",
            "100%|██████████| 35253/35253 [00:00<00:00, 636022.17it/s], 18.71it/s]\n",
            "100%|██████████| 35253/35253 [00:00<00:00, 740901.93it/s]\n",
            "100%|██████████| 35253/35253 [00:00<00:00, 726965.13it/s]6, 18.08it/s]\n",
            "100%|██████████| 35253/35253 [00:00<00:00, 834971.70it/s]\n",
            "100%|██████████| 35253/35253 [00:00<00:00, 812378.37it/s]5, 18.61it/s]\n",
            "100%|██████████| 35253/35253 [00:00<00:00, 799062.92it/s]\n",
            "100%|██████████| 35253/35253 [00:00<00:00, 698763.26it/s]5, 18.89it/s]\n",
            "100%|██████████| 35253/35253 [00:00<00:00, 685357.64it/s]\n",
            "100%|██████████| 35253/35253 [00:00<00:00, 735953.05it/s]5, 18.43it/s]\n",
            "100%|██████████| 35253/35253 [00:00<00:00, 611494.43it/s]\n",
            "100%|██████████| 35253/35253 [00:00<00:00, 817679.48it/s]5, 17.90it/s]\n",
            "100%|██████████| 35253/35253 [00:00<00:00, 858120.00it/s]\n",
            "100%|██████████| 35253/35253 [00:00<00:00, 790523.03it/s]\n",
            "100%|██████████| 35253/35253 [00:00<00:00, 810392.58it/s]5, 18.91it/s]\n",
            "100%|██████████| 35253/35253 [00:00<00:00, 813272.02it/s]\n",
            "100%|██████████| 35253/35253 [00:00<00:00, 828343.50it/s]\n",
            "100%|██████████| 35253/35253 [00:00<00:00, 814885.56it/s]5, 19.54it/s]\n",
            "100%|██████████| 35253/35253 [00:00<00:00, 815699.23it/s]\n",
            "100%|██████████| 35253/35253 [00:00<00:00, 789417.25it/s]4, 19.63it/s]\n",
            "100%|██████████| 35253/35253 [00:00<00:00, 829300.54it/s]\n",
            "100%|██████████| 35253/35253 [00:00<00:00, 827180.36it/s]4, 19.68it/s]\n",
            "100%|██████████| 35253/35253 [00:00<00:00, 771443.47it/s]\n",
            "100%|██████████| 35253/35253 [00:00<00:00, 756044.03it/s]\n",
            "100%|██████████| 35253/35253 [00:00<00:00, 804243.62it/s]4, 19.80it/s]\n",
            "100%|██████████| 35253/35253 [00:00<00:00, 635530.11it/s]\n",
            "100%|██████████| 35253/35253 [00:00<00:00, 762956.84it/s]4, 19.26it/s]\n",
            "100%|██████████| 35253/35253 [00:00<00:00, 807520.23it/s]\n",
            "100%|██████████| 35253/35253 [00:00<00:00, 806296.07it/s]\n",
            "100%|██████████| 35253/35253 [00:00<00:00, 789408.83it/s]4, 19.64it/s]\n",
            "100%|██████████| 35253/35253 [00:00<00:00, 853414.82it/s]\n",
            "100%|██████████| 35253/35253 [00:00<00:00, 832986.68it/s]4, 19.12it/s]\n",
            "100%|██████████| 35253/35253 [00:00<00:00, 817910.16it/s]\n",
            "100%|██████████| 35253/35253 [00:00<00:00, 860406.97it/s]\n",
            "100%|██████████| 35253/35253 [00:00<00:00, 814042.13it/s]4, 19.68it/s]\n",
            "100%|██████████| 35253/35253 [00:00<00:00, 830446.33it/s]\n",
            "100%|██████████| 35253/35253 [00:00<00:00, 805755.63it/s]\n",
            "100%|██████████| 35253/35253 [00:00<00:00, 821422.49it/s]3, 19.96it/s]\n",
            "100%|██████████| 35253/35253 [00:00<00:00, 575487.77it/s]\n",
            "100%|██████████| 35253/35253 [00:00<00:00, 836880.94it/s]4, 18.91it/s]\n",
            "100%|██████████| 35253/35253 [00:00<00:00, 861048.31it/s]\n",
            "100%|██████████| 35253/35253 [00:00<00:00, 846341.58it/s]\n",
            "100%|██████████| 35253/35253 [00:00<00:00, 847272.72it/s]3, 19.62it/s]\n",
            "100%|██████████| 35253/35253 [00:00<00:00, 821176.15it/s]\n",
            "100%|██████████| 35253/35253 [00:00<00:00, 793347.89it/s]\n",
            "100%|██████████| 35253/35253 [00:00<00:00, 723631.52it/s]3, 19.78it/s]\n",
            "100%|██████████| 35253/35253 [00:00<00:00, 692548.14it/s]\n",
            "100%|██████████| 35253/35253 [00:00<00:00, 742844.94it/s]3, 19.18it/s]\n",
            "100%|██████████| 35253/35253 [00:00<00:00, 815802.74it/s]\n",
            "100%|██████████| 35253/35253 [00:00<00:00, 790214.62it/s]3, 19.19it/s]\n",
            "100%|██████████| 35253/35253 [00:00<00:00, 802959.60it/s]\n",
            "100%|██████████| 35253/35253 [00:00<00:00, 795533.31it/s]\n",
            "100%|██████████| 35253/35253 [00:00<00:00, 832578.61it/s]3, 19.54it/s]\n",
            "100%|██████████| 35253/35253 [00:00<00:00, 861941.76it/s]\n",
            "100%|██████████| 35253/35253 [00:00<00:00, 797524.28it/s]\n",
            "100%|██████████| 35253/35253 [00:00<00:00, 560403.11it/s]3, 19.99it/s]\n",
            "100%|██████████| 35253/35253 [00:00<00:00, 678747.73it/s]\n",
            "100%|██████████| 35253/35253 [00:00<00:00, 833935.68it/s]3, 18.94it/s]\n",
            "100%|██████████| 35253/35253 [00:00<00:00, 801297.36it/s]\n",
            "100%|██████████| 35253/35253 [00:00<00:00, 805496.65it/s]\n",
            "100%|██████████| 35253/35253 [00:00<00:00, 802623.99it/s]2, 19.43it/s]\n",
            "100%|██████████| 35253/35253 [00:00<00:00, 769712.64it/s]\n",
            "100%|██████████| 35253/35253 [00:00<00:00, 879826.01it/s]2, 19.51it/s]\n",
            "100%|██████████| 35253/35253 [00:00<00:00, 804493.04it/s]\n",
            "100%|██████████| 35253/35253 [00:00<00:00, 850044.26it/s]\n",
            "100%|██████████| 35253/35253 [00:00<00:00, 875896.26it/s]2, 20.13it/s]\n",
            "100%|██████████| 35253/35253 [00:00<00:00, 690646.07it/s]\n",
            "100%|██████████| 35253/35253 [00:00<00:00, 828181.11it/s]\n",
            "100%|██████████| 35253/35253 [00:00<00:00, 876748.01it/s]2, 19.97it/s]\n",
            "100%|██████████| 35253/35253 [00:00<00:00, 862731.34it/s]\n",
            "100%|██████████| 35253/35253 [00:00<00:00, 745094.65it/s]\n",
            "100%|██████████| 35253/35253 [00:00<00:00, 839556.20it/s]2, 20.21it/s]\n",
            "100%|██████████| 35253/35253 [00:00<00:00, 561855.40it/s]\n",
            "100%|██████████| 35253/35253 [00:00<00:00, 786110.06it/s]\n",
            "100%|██████████| 35253/35253 [00:00<00:00, 819746.63it/s]2, 19.62it/s]\n",
            "100%|██████████| 35253/35253 [00:00<00:00, 789636.48it/s]\n",
            "100%|██████████| 35253/35253 [00:00<00:00, 793833.44it/s]2, 19.65it/s]\n",
            "100%|██████████| 35253/35253 [00:00<00:00, 723922.03it/s]\n",
            "100%|██████████| 35253/35253 [00:00<00:00, 697727.90it/s]1, 19.42it/s]\n",
            "100%|██████████| 35253/35253 [00:00<00:00, 778129.90it/s]\n",
            "100%|██████████| 35253/35253 [00:00<00:00, 762457.20it/s]1, 19.15it/s]\n",
            "100%|██████████| 35253/35253 [00:00<00:00, 821367.74it/s]\n",
            "100%|██████████| 35253/35253 [00:00<00:00, 823485.70it/s]\n",
            "100%|██████████| 35253/35253 [00:00<00:00, 862751.48it/s]1, 19.58it/s]\n",
            "100%|██████████| 35253/35253 [00:00<00:00, 839990.22it/s]\n",
            "100%|██████████| 35253/35253 [00:00<00:00, 655372.20it/s]\n",
            "100%|██████████| 35253/35253 [00:00<00:00, 857348.77it/s]1, 19.60it/s]\n",
            "100%|██████████| 35253/35253 [00:00<00:00, 841132.26it/s]\n",
            "100%|██████████| 35253/35253 [00:00<00:00, 846104.28it/s]\n",
            "100%|██████████| 35253/35253 [00:00<00:00, 549551.58it/s]1, 20.10it/s]\n",
            "100%|██████████| 35253/35253 [00:00<00:00, 841141.83it/s]\n",
            "100%|██████████| 35253/35253 [00:00<00:00, 841357.21it/s]\n",
            "100%|██████████| 35253/35253 [00:00<00:00, 824785.66it/s]1, 19.60it/s]\n",
            "100%|██████████| 35253/35253 [00:00<00:00, 833583.07it/s]\n",
            "100%|██████████| 35253/35253 [00:00<00:00, 766166.98it/s]\n",
            "100%|██████████| 35253/35253 [00:00<00:00, 773521.87it/s]01, 19.91it/s]\n",
            "100%|██████████| 35253/35253 [00:00<00:00, 811825.29it/s]\n",
            "100%|██████████| 35253/35253 [00:00<00:00, 780368.06it/s]00, 19.92it/s]\n",
            "100%|██████████| 35253/35253 [00:00<00:00, 750407.52it/s]\n",
            "100%|██████████| 35253/35253 [00:00<00:00, 795088.42it/s]00, 19.76it/s]\n",
            "100%|██████████| 35253/35253 [00:00<00:00, 861028.25it/s]\n",
            "100%|██████████| 35253/35253 [00:00<00:00, 810090.67it/s]\n",
            "100%|██████████| 35253/35253 [00:00<00:00, 866360.81it/s]00, 19.87it/s]\n",
            "100%|██████████| 35253/35253 [00:00<00:00, 843945.59it/s]\n",
            "100%|██████████| 35253/35253 [00:00<00:00, 843324.66it/s]\n",
            "100%|██████████| 35253/35253 [00:00<00:00, 614927.59it/s]00, 20.39it/s]\n",
            "100%|██████████| 35253/35253 [00:00<00:00, 754577.88it/s]\n",
            "100%|██████████| 35253/35253 [00:00<00:00, 778076.66it/s]\n",
            "100%|██████████| 35253/35253 [00:00<00:00, 676010.73it/s]00, 19.66it/s]\n",
            "100%|██████████| 35253/35253 [00:00<00:00, 643798.30it/s]\n",
            "100%|██████████| 35253/35253 [00:00<00:00, 828375.98it/s]00, 18.74it/s]\n",
            "100%|██████████| 35253/35253 [00:00<00:00, 738740.16it/s]\n",
            "100%|██████████| 35253/35253 [00:00<00:00, 776169.27it/s]00, 18.93it/s]\n",
            "100%|██████████| 35253/35253 [00:00<00:00, 729306.56it/s]\n",
            "100%|██████████| 35253/35253 [00:00<00:00, 750658.96it/s]00, 18.79it/s]\n",
            "100%|██████████| 35253/35253 [00:00<00:00, 745451.52it/s]\n",
            "Encoding antibiotics: 100%|██████████| 123/123 [00:06<00:00, 19.39it/s]\n"
          ]
        },
        {
          "name": "stdout",
          "output_type": "stream",
          "text": [
            "Counting genetic marker frequencies...\n"
          ]
        },
        {
          "name": "stderr",
          "output_type": "stream",
          "text": [
            "Collecting genes: 100%|██████████| 35253/35253 [00:00<00:00, 599489.95it/s]\n"
          ]
        },
        {
          "name": "stdout",
          "output_type": "stream",
          "text": [
            "One-hot encoding genetic markers...\n"
          ]
        },
        {
          "ename": "TypeError",
          "evalue": "unhashable type: 'dict'",
          "output_type": "error",
          "traceback": [
            "\u001b[1;31m---------------------------------------------------------------------------\u001b[0m",
            "\u001b[1;31mTypeError\u001b[0m                                 Traceback (most recent call last)",
            "Cell \u001b[1;32mIn[7], line 1\u001b[0m\n\u001b[1;32m----> 1\u001b[0m df_processed, common_antibiotics \u001b[38;5;241m=\u001b[39m preprocess_for_xgboost(df, min_antibiotic_freq\u001b[38;5;241m=\u001b[39m\u001b[38;5;241m10\u001b[39m)\n\u001b[0;32m      3\u001b[0m df_processed\u001b[38;5;241m.\u001b[39mhead()\n",
            "Cell \u001b[1;32mIn[6], line 53\u001b[0m, in \u001b[0;36mpreprocess_for_xgboost\u001b[1;34m(df, min_antibiotic_freq, min_gene_freq)\u001b[0m\n\u001b[0;32m     50\u001b[0m \u001b[38;5;28mprint\u001b[39m(\u001b[38;5;124m\"\u001b[39m\u001b[38;5;124mOne-hot encoding genetic markers...\u001b[39m\u001b[38;5;124m\"\u001b[39m)\n\u001b[0;32m     51\u001b[0m mlb \u001b[38;5;241m=\u001b[39m MultiLabelBinarizer(classes\u001b[38;5;241m=\u001b[39mcommon_genes)\n\u001b[0;32m     52\u001b[0m gene_matrix \u001b[38;5;241m=\u001b[39m pd\u001b[38;5;241m.\u001b[39mDataFrame(\n\u001b[1;32m---> 53\u001b[0m     mlb\u001b[38;5;241m.\u001b[39mfit_transform(df[\u001b[38;5;124m'\u001b[39m\u001b[38;5;124mgenetic_mechanisms\u001b[39m\u001b[38;5;124m'\u001b[39m]),\n\u001b[0;32m     54\u001b[0m     columns\u001b[38;5;241m=\u001b[39m[\u001b[38;5;124mf\u001b[39m\u001b[38;5;124m'\u001b[39m\u001b[38;5;124mgene_\u001b[39m\u001b[38;5;132;01m{\u001b[39;00mg\u001b[38;5;132;01m}\u001b[39;00m\u001b[38;5;124m'\u001b[39m \u001b[38;5;28;01mfor\u001b[39;00m g \u001b[38;5;129;01min\u001b[39;00m mlb\u001b[38;5;241m.\u001b[39mclasses_],\n\u001b[0;32m     55\u001b[0m     index\u001b[38;5;241m=\u001b[39mdf\u001b[38;5;241m.\u001b[39mindex\n\u001b[0;32m     56\u001b[0m )\n\u001b[0;32m     58\u001b[0m \u001b[38;5;28mprint\u001b[39m(\u001b[38;5;124m\"\u001b[39m\u001b[38;5;124mMerging final dataframe...\u001b[39m\u001b[38;5;124m\"\u001b[39m)\n\u001b[0;32m     59\u001b[0m df_processed \u001b[38;5;241m=\u001b[39m pd\u001b[38;5;241m.\u001b[39mconcat(\n\u001b[0;32m     60\u001b[0m     [df\u001b[38;5;241m.\u001b[39mdrop(columns\u001b[38;5;241m=\u001b[39m[\u001b[38;5;124m'\u001b[39m\u001b[38;5;124mantibiogram\u001b[39m\u001b[38;5;124m'\u001b[39m, \u001b[38;5;124m'\u001b[39m\u001b[38;5;124mgenetic_mechanisms\u001b[39m\u001b[38;5;124m'\u001b[39m]), ab_matrix, gene_matrix],\n\u001b[0;32m     61\u001b[0m     axis\u001b[38;5;241m=\u001b[39m\u001b[38;5;241m1\u001b[39m\n\u001b[0;32m     62\u001b[0m )\n",
            "File \u001b[1;32mc:\\Users\\DarioZ\\anaconda3\\Lib\\site-packages\\sklearn\\utils\\_set_output.py:140\u001b[0m, in \u001b[0;36m_wrap_method_output.<locals>.wrapped\u001b[1;34m(self, X, *args, **kwargs)\u001b[0m\n\u001b[0;32m    138\u001b[0m \u001b[38;5;129m@wraps\u001b[39m(f)\n\u001b[0;32m    139\u001b[0m \u001b[38;5;28;01mdef\u001b[39;00m \u001b[38;5;21mwrapped\u001b[39m(\u001b[38;5;28mself\u001b[39m, X, \u001b[38;5;241m*\u001b[39margs, \u001b[38;5;241m*\u001b[39m\u001b[38;5;241m*\u001b[39mkwargs):\n\u001b[1;32m--> 140\u001b[0m     data_to_wrap \u001b[38;5;241m=\u001b[39m f(\u001b[38;5;28mself\u001b[39m, X, \u001b[38;5;241m*\u001b[39margs, \u001b[38;5;241m*\u001b[39m\u001b[38;5;241m*\u001b[39mkwargs)\n\u001b[0;32m    141\u001b[0m     \u001b[38;5;28;01mif\u001b[39;00m \u001b[38;5;28misinstance\u001b[39m(data_to_wrap, \u001b[38;5;28mtuple\u001b[39m):\n\u001b[0;32m    142\u001b[0m         \u001b[38;5;66;03m# only wrap the first output for cross decomposition\u001b[39;00m\n\u001b[0;32m    143\u001b[0m         \u001b[38;5;28;01mreturn\u001b[39;00m (\n\u001b[0;32m    144\u001b[0m             _wrap_data_with_container(method, data_to_wrap[\u001b[38;5;241m0\u001b[39m], X, \u001b[38;5;28mself\u001b[39m),\n\u001b[0;32m    145\u001b[0m             \u001b[38;5;241m*\u001b[39mdata_to_wrap[\u001b[38;5;241m1\u001b[39m:],\n\u001b[0;32m    146\u001b[0m         )\n",
            "File \u001b[1;32mc:\\Users\\DarioZ\\anaconda3\\Lib\\site-packages\\sklearn\\preprocessing\\_label.py:806\u001b[0m, in \u001b[0;36mMultiLabelBinarizer.fit_transform\u001b[1;34m(self, y)\u001b[0m\n\u001b[0;32m    789\u001b[0m \u001b[38;5;250m\u001b[39m\u001b[38;5;124;03m\"\"\"Fit the label sets binarizer and transform the given label sets.\u001b[39;00m\n\u001b[0;32m    790\u001b[0m \n\u001b[0;32m    791\u001b[0m \u001b[38;5;124;03mParameters\u001b[39;00m\n\u001b[1;32m   (...)\u001b[0m\n\u001b[0;32m    803\u001b[0m \u001b[38;5;124;03m    format.\u001b[39;00m\n\u001b[0;32m    804\u001b[0m \u001b[38;5;124;03m\"\"\"\u001b[39;00m\n\u001b[0;32m    805\u001b[0m \u001b[38;5;28;01mif\u001b[39;00m \u001b[38;5;28mself\u001b[39m\u001b[38;5;241m.\u001b[39mclasses \u001b[38;5;129;01mis\u001b[39;00m \u001b[38;5;129;01mnot\u001b[39;00m \u001b[38;5;28;01mNone\u001b[39;00m:\n\u001b[1;32m--> 806\u001b[0m     \u001b[38;5;28;01mreturn\u001b[39;00m \u001b[38;5;28mself\u001b[39m\u001b[38;5;241m.\u001b[39mfit(y)\u001b[38;5;241m.\u001b[39mtransform(y)\n\u001b[0;32m    808\u001b[0m \u001b[38;5;28mself\u001b[39m\u001b[38;5;241m.\u001b[39m_validate_params()\n\u001b[0;32m    809\u001b[0m \u001b[38;5;28mself\u001b[39m\u001b[38;5;241m.\u001b[39m_cached_dict \u001b[38;5;241m=\u001b[39m \u001b[38;5;28;01mNone\u001b[39;00m\n",
            "File \u001b[1;32mc:\\Users\\DarioZ\\anaconda3\\Lib\\site-packages\\sklearn\\preprocessing\\_label.py:775\u001b[0m, in \u001b[0;36mMultiLabelBinarizer.fit\u001b[1;34m(self, y)\u001b[0m\n\u001b[0;32m    773\u001b[0m \u001b[38;5;28;01mif\u001b[39;00m \u001b[38;5;28mself\u001b[39m\u001b[38;5;241m.\u001b[39mclasses \u001b[38;5;129;01mis\u001b[39;00m \u001b[38;5;28;01mNone\u001b[39;00m:\n\u001b[0;32m    774\u001b[0m     classes \u001b[38;5;241m=\u001b[39m \u001b[38;5;28msorted\u001b[39m(\u001b[38;5;28mset\u001b[39m(itertools\u001b[38;5;241m.\u001b[39mchain\u001b[38;5;241m.\u001b[39mfrom_iterable(y)))\n\u001b[1;32m--> 775\u001b[0m \u001b[38;5;28;01melif\u001b[39;00m \u001b[38;5;28mlen\u001b[39m(\u001b[38;5;28mset\u001b[39m(\u001b[38;5;28mself\u001b[39m\u001b[38;5;241m.\u001b[39mclasses)) \u001b[38;5;241m<\u001b[39m \u001b[38;5;28mlen\u001b[39m(\u001b[38;5;28mself\u001b[39m\u001b[38;5;241m.\u001b[39mclasses):\n\u001b[0;32m    776\u001b[0m     \u001b[38;5;28;01mraise\u001b[39;00m \u001b[38;5;167;01mValueError\u001b[39;00m(\n\u001b[0;32m    777\u001b[0m         \u001b[38;5;124m\"\u001b[39m\u001b[38;5;124mThe classes argument contains duplicate \u001b[39m\u001b[38;5;124m\"\u001b[39m\n\u001b[0;32m    778\u001b[0m         \u001b[38;5;124m\"\u001b[39m\u001b[38;5;124mclasses. Remove these duplicates before passing \u001b[39m\u001b[38;5;124m\"\u001b[39m\n\u001b[0;32m    779\u001b[0m         \u001b[38;5;124m\"\u001b[39m\u001b[38;5;124mthem to MultiLabelBinarizer.\u001b[39m\u001b[38;5;124m\"\u001b[39m\n\u001b[0;32m    780\u001b[0m     )\n\u001b[0;32m    781\u001b[0m \u001b[38;5;28;01melse\u001b[39;00m:\n",
            "\u001b[1;31mTypeError\u001b[0m: unhashable type: 'dict'"
          ]
        }
      ],
      "source": [
        "df_processed, common_antibiotics = preprocess_for_xgboost(df, min_antibiotic_freq=10)\n",
        "\n",
        "df_processed.head()"
      ]
    },
    {
      "cell_type": "code",
      "execution_count": null,
      "metadata": {
        "id": "QeyNM_L4L1KD"
      },
      "outputs": [],
      "source": [
        "common_antibiotics"
      ]
    },
    {
      "cell_type": "code",
      "execution_count": null,
      "metadata": {
        "id": "BLEjlKbFML1z"
      },
      "outputs": [],
      "source": [
        "print(df['antibiogram'].iloc[0])\n",
        "print(type(df['antibiogram'].iloc[0]))"
      ]
    }
  ],
  "metadata": {
    "colab": {
      "provenance": []
    },
    "kernelspec": {
      "display_name": "base",
      "language": "python",
      "name": "python3"
    },
    "language_info": {
      "codemirror_mode": {
        "name": "ipython",
        "version": 3
      },
      "file_extension": ".py",
      "mimetype": "text/x-python",
      "name": "python",
      "nbconvert_exporter": "python",
      "pygments_lexer": "ipython3",
      "version": "3.11.7"
    }
  },
  "nbformat": 4,
  "nbformat_minor": 0
}
